{
 "cells": [
  {
   "cell_type": "markdown",
   "metadata": {},
   "source": [
    "# Classification"
   ]
  },
  {
   "cell_type": "markdown",
   "metadata": {},
   "source": [
    "**In this notebook:**\n",
    "* loading spam and non spam data\n",
    "* define classification pipeline \n",
    "* train model\n",
    "* predict spam or non spam\n",
    "* evaluate test results"
   ]
  },
  {
   "cell_type": "markdown",
   "metadata": {},
   "source": [
    "## Imports"
   ]
  },
  {
   "cell_type": "code",
   "execution_count": null,
   "metadata": {},
   "outputs": [],
   "source": [
    "!pip install pyspark"
   ]
  },
  {
   "cell_type": "code",
   "execution_count": 1,
   "metadata": {
    "ExecuteTime": {
     "end_time": "2021-01-23T20:23:54.502484Z",
     "start_time": "2021-01-23T20:23:53.462414Z"
    }
   },
   "outputs": [],
   "source": [
    "import os\n",
    "import pandas as pd\n",
    "\n",
    "from pyspark import SparkContext, SparkConf\n",
    "from pyspark.sql import *\n",
    "from pyspark.sql import functions as F\n",
    "from pyspark.sql.functions import *\n",
    "from pyspark.ml.feature import * \n",
    "from pyspark.ml import Pipeline\n",
    "from pyspark.ml.classification import LinearSVC, LogisticRegression\n",
    "from pyspark.ml.tuning import CrossValidator, ParamGridBuilder\n",
    "from pyspark.ml.evaluation import BinaryClassificationEvaluator\n",
    "from sklearn.metrics import confusion_matrix, ConfusionMatrixDisplay"
   ]
  },
  {
   "cell_type": "markdown",
   "metadata": {},
   "source": [
    "## Enviroment"
   ]
  },
  {
   "cell_type": "markdown",
   "metadata": {},
   "source": [
    " Setting up the Spark configuration with parameter setting for the cluster. Setting up the connection to the Spark cluster."
   ]
  },
  {
   "cell_type": "code",
   "execution_count": 2,
   "metadata": {
    "ExecuteTime": {
     "end_time": "2021-01-23T20:23:59.569951Z",
     "start_time": "2021-01-23T20:23:54.505353Z"
    }
   },
   "outputs": [],
   "source": [
    "conf = SparkConf().setAppName('HW2').setMaster(\"local[8]\")\n",
    "sc = SparkContext(conf=conf)\n",
    "sqlContext = SQLContext(sc)"
   ]
  },
  {
   "cell_type": "markdown",
   "metadata": {},
   "source": [
    "## Data Loading"
   ]
  },
  {
   "cell_type": "markdown",
   "metadata": {},
   "source": [
    "Loading data into pyspark DataFrames."
   ]
  },
  {
   "cell_type": "code",
   "execution_count": 18,
   "metadata": {
    "ExecuteTime": {
     "end_time": "2021-01-23T20:33:26.369598Z",
     "start_time": "2021-01-23T20:33:26.357773Z"
    }
   },
   "outputs": [],
   "source": [
    "data_path = \"../../../data/HW2/spam-datasets/\""
   ]
  },
  {
   "cell_type": "code",
   "execution_count": 19,
   "metadata": {
    "ExecuteTime": {
     "end_time": "2021-01-23T20:33:27.624320Z",
     "start_time": "2021-01-23T20:33:26.538910Z"
    }
   },
   "outputs": [],
   "source": [
    "nospam_testing = (\n",
    "    sqlContext.read.format(\"csv\")\n",
    "    .options(header=\"false\", inferSchema=\"True\", delimiter=\"\\t\")\n",
    "    .load(os.path.join(data_path, \"nospam_testing.txt\"))\n",
    ").cache()\n",
    "nospam_testing = nospam_testing.withColumn(\"label\", F.lit(0))\n",
    "\n",
    "spam_testing = (\n",
    "    sqlContext.read.format(\"csv\")\n",
    "    .options(header=\"false\", inferSchema=\"True\", delimiter=\"\\t\")\n",
    "    .load(os.path.join(data_path, \"spam_testing.txt\"))\n",
    ").cache()\n",
    "spam_testing = spam_testing.withColumn(\"label\", F.lit(1))\n",
    "\n",
    "spam_training = (\n",
    "    sqlContext.read.format(\"csv\")\n",
    "    .options(header=\"false\", inferSchema=\"True\", delimiter=\"\\t\")\n",
    "    .load(os.path.join(data_path, \"spam_training.txt\"))\n",
    ").cache()\n",
    "spam_training = spam_training.withColumn(\"label\", F.lit(1))\n",
    "\n",
    "nospam_training = (\n",
    "    sqlContext.read.format(\"csv\")\n",
    "    .options(header=\"false\", inferSchema=\"True\", delimiter=\"\\t\")\n",
    "    .load(os.path.join(data_path, \"nospam_training.txt\"))\n",
    ").cache()\n",
    "nospam_training = nospam_training.withColumn(\"label\", F.lit(0))"
   ]
  },
  {
   "cell_type": "code",
   "execution_count": 20,
   "metadata": {
    "ExecuteTime": {
     "end_time": "2021-01-23T20:33:27.647939Z",
     "start_time": "2021-01-23T20:33:27.630556Z"
    }
   },
   "outputs": [],
   "source": [
    "training = nospam_training.union(spam_training)\n",
    "testing = nospam_testing.union(spam_testing)"
   ]
  },
  {
   "cell_type": "code",
   "execution_count": 21,
   "metadata": {
    "ExecuteTime": {
     "end_time": "2021-01-23T20:33:28.057888Z",
     "start_time": "2021-01-23T20:33:27.650573Z"
    }
   },
   "outputs": [
    {
     "name": "stdout",
     "output_type": "stream",
     "text": [
      "+-------+--------------------+-------------------+\n",
      "|summary|                 _c0|              label|\n",
      "+-------+--------------------+-------------------+\n",
      "|  count|                4460|               4460|\n",
      "|   mean|               645.0|0.13408071748878925|\n",
      "| stddev|                 NaN| 0.3407772243049732|\n",
      "|    min| &lt;#&gt;  in mc...|                  0|\n",
      "|    max|… and don‘t worry...|                  1|\n",
      "+-------+--------------------+-------------------+\n",
      "\n"
     ]
    }
   ],
   "source": [
    "training.describe().show()"
   ]
  },
  {
   "cell_type": "code",
   "execution_count": 22,
   "metadata": {
    "ExecuteTime": {
     "end_time": "2021-01-23T20:33:28.173697Z",
     "start_time": "2021-01-23T20:33:28.064496Z"
    }
   },
   "outputs": [
    {
     "data": {
      "text/plain": [
       "598"
      ]
     },
     "execution_count": 22,
     "metadata": {},
     "output_type": "execute_result"
    }
   ],
   "source": [
    "spam_training.count()"
   ]
  },
  {
   "cell_type": "markdown",
   "metadata": {},
   "source": [
    "## Pipeline"
   ]
  },
  {
   "cell_type": "markdown",
   "metadata": {},
   "source": [
    "Setting up a ml pipeline, including **extraction, transformation and classification** algorithms.\n",
    "\n",
    "I tried different pipeline steps including: \n",
    "* tokenizer\n",
    "* regex tokenizer\n",
    "* stop words remover\n",
    "* countvectorizer\n",
    "* hashingTF\n",
    "* idf\n",
    "* normalizer\n",
    "* standard scaler\n",
    "* logistic regression\n",
    "* linear SVC\n",
    "* ...\n",
    "\n",
    "In following I compare a linear regression pipeline with a svm:"
   ]
  },
  {
   "cell_type": "code",
   "execution_count": 73,
   "metadata": {
    "ExecuteTime": {
     "end_time": "2021-01-23T21:49:16.635316Z",
     "start_time": "2021-01-23T21:49:16.571381Z"
    }
   },
   "outputs": [],
   "source": [
    "# Split subjects into words (tokens)\n",
    "#tokenizer = Tokenizer(inputCol=\"_c0\", outputCol=\"words\")\n",
    "tokenizer = RegexTokenizer(inputCol=\"_c0\", outputCol=\"words\",  pattern=\"\\\\W\")\n",
    "# Delete Stop words\n",
    "#remover = StopWordsRemover(inputCol=\"words\", outputCol=\"filtered\")\n",
    "\n",
    "# Hash tokens\n",
    "hashingTF = HashingTF(inputCol=tokenizer.getOutputCol(), outputCol=\"features\")\n",
    "#cv = CountVectorizer(inputCol=\"words\", outputCol=\"features\", vocabSize=3, minDF=2.0)\n",
    "\n",
    "# Weight with idf\n",
    "idf = IDF(inputCol=hashingTF.getOutputCol(), outputCol=\"features_weighted\")\n",
    "\n",
    "# Normalize\n",
    "normalizer = Normalizer(inputCol=idf.getOutputCol(), outputCol=\"features_normalized\")\n",
    "scaler = StandardScaler(inputCol=\"features\", outputCol=\"scaledFeatures\", withStd=True, withMean=False)\n",
    "\n",
    "# Define model\n",
    "lsvc = LinearSVC()   #Linear SVM\n",
    "mlr = LogisticRegression() # Logistic Regression"
   ]
  },
  {
   "cell_type": "code",
   "execution_count": 74,
   "metadata": {
    "ExecuteTime": {
     "end_time": "2021-01-23T21:49:16.787617Z",
     "start_time": "2021-01-23T21:49:16.782478Z"
    }
   },
   "outputs": [],
   "source": [
    "lsvc_pipeline = Pipeline(stages=[tokenizer, \n",
    "                            #remover, \n",
    "                            hashingTF, \n",
    "                            idf, \n",
    "                            normalizer, \n",
    "                            lsvc])\n",
    "mlr_pipeline = Pipeline(stages=[tokenizer, \n",
    "                            #remover, \n",
    "                            hashingTF, \n",
    "                            idf, \n",
    "                            normalizer, \n",
    "                            mlr])"
   ]
  },
  {
   "cell_type": "markdown",
   "metadata": {},
   "source": [
    "## Cross Validation"
   ]
  },
  {
   "cell_type": "markdown",
   "metadata": {},
   "source": [
    "I tried different:\n",
    "* number of features: downsampling to 1000 worked the best\n",
    "* reg param: 0.01 worked the best\n",
    "* max iteration: 20 worked the best"
   ]
  },
  {
   "cell_type": "code",
   "execution_count": 75,
   "metadata": {
    "ExecuteTime": {
     "end_time": "2021-01-23T21:55:39.245856Z",
     "start_time": "2021-01-23T21:49:17.369989Z"
    }
   },
   "outputs": [],
   "source": [
    "# SVM\n",
    "paramGrid = ParamGridBuilder() \\\n",
    "    .addGrid(hashingTF.numFeatures, [100, 1000, 1100]) \\\n",
    "    .addGrid(lsvc.regParam, [0.1,0.05, 0.01]) \\\n",
    "    .addGrid(lsvc.maxIter, [5, 10, 20]) \\\n",
    "    .build()\n",
    "\n",
    "crossval = CrossValidator(estimator=lsvc_pipeline,\n",
    "                          estimatorParamMaps=paramGrid,\n",
    "                          evaluator=BinaryClassificationEvaluator(),\n",
    "                          numFolds=10)  \n",
    "\n",
    "# Run cross-validation\n",
    "lsvc_model = crossval.fit(training)"
   ]
  },
  {
   "cell_type": "code",
   "execution_count": 76,
   "metadata": {
    "ExecuteTime": {
     "end_time": "2021-01-23T22:02:03.540749Z",
     "start_time": "2021-01-23T21:55:39.248399Z"
    }
   },
   "outputs": [],
   "source": [
    "# Regression\n",
    "mlr_paramGrid = ParamGridBuilder() \\\n",
    "    .addGrid(hashingTF.numFeatures, [100, 1000, 1100]) \\\n",
    "    .addGrid(mlr.regParam, [0.1,0.05, 0.01]) \\\n",
    "    .addGrid(mlr.maxIter, [5, 10, 20]) \\\n",
    "    .build()\n",
    "\n",
    "mlr_crossval = CrossValidator(estimator=mlr_pipeline,\n",
    "                          estimatorParamMaps=mlr_paramGrid,\n",
    "                          evaluator=BinaryClassificationEvaluator(),\n",
    "                          numFolds=10)  \n",
    "\n",
    "# Run cross-validation\n",
    "mlr_model = mlr_crossval.fit(training)"
   ]
  },
  {
   "cell_type": "markdown",
   "metadata": {},
   "source": [
    "## Evaluation"
   ]
  },
  {
   "cell_type": "markdown",
   "metadata": {},
   "source": [
    "I evaluated mainly on the accuracy and on the false positive rate. The best accuracy I achieved was: 96.5%"
   ]
  },
  {
   "cell_type": "code",
   "execution_count": 77,
   "metadata": {
    "ExecuteTime": {
     "end_time": "2021-01-23T22:02:03.711473Z",
     "start_time": "2021-01-23T22:02:03.543251Z"
    }
   },
   "outputs": [],
   "source": [
    "lsvc_predictions = lsvc_model.transform(testing)\n",
    "mlr_predictions = mlr_model.transform(testing)"
   ]
  },
  {
   "cell_type": "code",
   "execution_count": 78,
   "metadata": {
    "ExecuteTime": {
     "end_time": "2021-01-23T22:02:03.952510Z",
     "start_time": "2021-01-23T22:02:03.714070Z"
    }
   },
   "outputs": [
    {
     "name": "stdout",
     "output_type": "stream",
     "text": [
      "SVM misclassified 30 samples, Regression misclassified 36 samples.\n"
     ]
    }
   ],
   "source": [
    "# Number of fasely classified samples\n",
    "lsvc_false = lsvc_predictions.where(lsvc_predictions.label != lsvc_predictions.prediction).count()\n",
    "mlr_false = mlr_predictions.where(mlr_predictions.label != mlr_predictions.prediction).count()\n",
    "print(f'SVM misclassified {lsvc_false} samples, Regression misclassified {mlr_false} samples.')"
   ]
  },
  {
   "cell_type": "code",
   "execution_count": 79,
   "metadata": {
    "ExecuteTime": {
     "end_time": "2021-01-23T22:02:03.960425Z",
     "start_time": "2021-01-23T22:02:03.954424Z"
    }
   },
   "outputs": [],
   "source": [
    "# Evaluation modul\n",
    "def evaluate(predictions):\n",
    "    cm = predictions.select(\"label\", \"prediction\")\n",
    "\n",
    "    # Accuracy\n",
    "    acc = cm.filter(cm.label == cm.prediction).count() / cm.count()\n",
    "    print(f\"Model accuracy: {acc} %\")\n",
    "\n",
    "    # ROC\n",
    "    evaluator = BinaryClassificationEvaluator(rawPredictionCol=\"rawPrediction\")\n",
    "    print(f\"Area under Roc: {evaluator.evaluate(predictions)} %\")\n",
    "\n",
    "    # False positive\n",
    "    fp = (\n",
    "        cm.filter(cm.label != cm.prediction).where(cm.prediction == 1).count()\n",
    "        / cm.count()\n",
    "    )\n",
    "    print(f\"False positives: {fp} %\")\n",
    "\n",
    "    # False negative\n",
    "    fn = (\n",
    "        cm.filter(cm.label != cm.prediction).where(cm.prediction == 0).count()\n",
    "        / cm.count()\n",
    "    )\n",
    "    print(f\"False negative: {fn} %\")\n",
    "\n",
    "    # Confusion Matrix\n",
    "    conf_matrix  = confusion_matrix(\n",
    "        predictions.select(\"label\").toPandas(),\n",
    "        predictions.select(\"prediction\").toPandas(),)\n",
    "\n",
    "    disp = ConfusionMatrixDisplay(confusion_matrix=conf_matrix,\n",
    "                               display_labels=[\"nospam\", \"spam\"])\n",
    "    disp.plot() \n",
    "\n",
    "\n",
    "    return acc, cm"
   ]
  },
  {
   "cell_type": "code",
   "execution_count": 80,
   "metadata": {
    "ExecuteTime": {
     "end_time": "2021-01-23T22:02:05.064955Z",
     "start_time": "2021-01-23T22:02:03.962325Z"
    }
   },
   "outputs": [
    {
     "name": "stdout",
     "output_type": "stream",
     "text": [
      "Model accuracy: 0.9730700179533214 %\n",
      "Area under Roc: 0.9895677574155879 %\n",
      "False positives: 0.005385996409335727 %\n",
      "False negative: 0.02154398563734291 %\n"
     ]
    },
    {
     "data": {
      "image/png": "[encoded data removed]",
      "text/plain": [
       "<Figure size 432x288 with 2 Axes>"
      ]
     },
     "metadata": {
      "needs_background": "light"
     },
     "output_type": "display_data"
    }
   ],
   "source": [
    "# Evaluate SVM \n",
    "lsvc_acc, lsvc_cm = evaluate(lsvc_predictions)"
   ]
  },
  {
   "cell_type": "code",
   "execution_count": 81,
   "metadata": {
    "ExecuteTime": {
     "end_time": "2021-01-23T22:02:06.444724Z",
     "start_time": "2021-01-23T22:02:05.066794Z"
    }
   },
   "outputs": [
    {
     "name": "stdout",
     "output_type": "stream",
     "text": [
      "Model accuracy: 0.9676840215439856 %\n",
      "Area under Roc: 0.9919532635532252 %\n",
      "False positives: 0.003590664272890485 %\n",
      "False negative: 0.02872531418312388 %\n"
     ]
    },
    {
     "data": {
      "image/png": "[encoded data removed]",
      "text/plain": [
       "<Figure size 432x288 with 2 Axes>"
      ]
     },
     "metadata": {
      "needs_background": "light"
     },
     "output_type": "display_data"
    }
   ],
   "source": [
    "# Evaluate Logistic Regression Model \n",
    "mlr_acc, mlr_cm = evaluate(mlr_predictions)"
   ]
  },
  {
   "cell_type": "markdown",
   "metadata": {},
   "source": [
    "## Save result"
   ]
  },
  {
   "cell_type": "code",
   "execution_count": 82,
   "metadata": {
    "ExecuteTime": {
     "end_time": "2021-01-23T22:08:40.085014Z",
     "start_time": "2021-01-23T22:08:40.071842Z"
    }
   },
   "outputs": [],
   "source": [
    "with open(\"Output.txt\", \"w\") as text_file:\n",
    "    text_file.write(\"Accuracy: {0}\".format(lsvc_acc))"
   ]
  }
 ],
 "metadata": {
  "kernelspec": {
   "display_name": "Python 3",
   "language": "python",
   "name": "python3"
  },
  "language_info": {
   "codemirror_mode": {
    "name": "ipython",
    "version": 3
   },
   "file_extension": ".py",
   "mimetype": "text/x-python",
   "name": "python",
   "nbconvert_exporter": "python",
   "pygments_lexer": "ipython3",
   "version": "3.8.5"
  },
  "toc": {
   "base_numbering": 1,
   "nav_menu": {},
   "number_sections": false,
   "sideBar": true,
   "skip_h1_title": false,
   "title_cell": "Table of Contents",
   "title_sidebar": "Contents",
   "toc_cell": false,
   "toc_position": {
    "height": "calc(100% - 180px)",
    "left": "10px",
    "top": "150px",
    "width": "384px"
   },
   "toc_section_display": true,
   "toc_window_display": true
  }
 },
 "nbformat": 4,
 "nbformat_minor": 4
}
