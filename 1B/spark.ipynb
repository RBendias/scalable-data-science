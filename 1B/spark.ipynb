{
 "cells": [
  {
   "cell_type": "markdown",
   "metadata": {},
   "source": [
    "# B: Spark"
   ]
  },
  {
   "cell_type": "markdown",
   "metadata": {},
   "source": [
    "**In this notebook:**\n",
    "* importing pyspark modules\n",
    "* setting spark context\n",
    "* testing pyspark dataframe with orders and customer  (task B.i)\n",
    "* testing pyspark dataframes with iterations (task B.ii)"
   ]
  },
  {
   "cell_type": "markdown",
   "metadata": {
    "heading_collapsed": true
   },
   "source": [
    "## Installation"
   ]
  },
  {
   "cell_type": "code",
   "execution_count": 2,
   "metadata": {
    "ExecuteTime": {
     "end_time": "2021-01-15T11:53:15.045874Z",
     "start_time": "2021-01-15T11:51:31.942191Z"
    },
    "hidden": true
   },
   "outputs": [
    {
     "name": "stdout",
     "output_type": "stream",
     "text": [
      "Collecting pyspark\n",
      "  Downloading pyspark-3.0.1.tar.gz (204.2 MB)\n",
      "\u001b[K     |████████████████████████████████| 204.2 MB 69 kB/s  eta 0:00:01   |█▏                              | 7.2 MB 1.1 MB/s eta 0:02:53     |█▊                              | 11.2 MB 3.8 MB/s eta 0:00:52     |██▍                             | 15.0 MB 1.9 MB/s eta 0:01:39     |██▊                             | 17.6 MB 1.5 MB/s eta 0:02:05     |███▏                            | 20.4 MB 1.5 MB/s eta 0:02:03     |████████▎                       | 52.8 MB 4.7 MB/s eta 0:00:32     |███████████▏                    | 70.9 MB 2.5 MB/s eta 0:00:53     |███████████▏                    | 71.2 MB 2.5 MB/s eta 0:00:53     |███████████▍                    | 72.5 MB 796 kB/s eta 0:02:46     |████████████▍                   | 78.9 MB 267 kB/s eta 0:07:48     |██████████████▊                 | 94.0 MB 1.5 MB/s eta 0:01:15     |██████████████▊                 | 94.1 MB 1.5 MB/s eta 0:01:15     |████████████████                | 101.5 MB 1.4 MB/s eta 0:01:12     |██████████████████▏             | 116.0 MB 2.6 MB/s eta 0:00:35     |██████████████████▍             | 117.4 MB 2.6 MB/s eta 0:00:34     |████████████████████▋           | 131.3 MB 2.1 MB/s eta 0:00:35     |███████████████████████▎        | 148.8 MB 3.7 MB/s eta 0:00:16     |███████████████████████████     | 172.7 MB 3.4 MB/s eta 0:00:10\n",
      "\u001b[?25hCollecting py4j==0.10.9\n",
      "  Downloading py4j-0.10.9-py2.py3-none-any.whl (198 kB)\n",
      "\u001b[K     |████████████████████████████████| 198 kB 4.6 MB/s eta 0:00:01\n",
      "\u001b[?25hBuilding wheels for collected packages: pyspark\n",
      "  Building wheel for pyspark (setup.py) ... \u001b[?25ldone\n",
      "\u001b[?25h  Created wheel for pyspark: filename=pyspark-3.0.1-py2.py3-none-any.whl size=204612243 sha256=4f2eeebe0848fb20352eb8aa2f41edca085b86246e3435d861b2dca4cea500e6\n",
      "  Stored in directory: /root/.cache/pip/wheels/ea/21/84/970b03913d0d6a96ef51c34c878add0de9e4ecbb7c764ea21f\n",
      "Successfully built pyspark\n",
      "Installing collected packages: py4j, pyspark\n",
      "Successfully installed py4j-0.10.9 pyspark-3.0.1\n"
     ]
    }
   ],
   "source": [
    "!pip install pyspark"
   ]
  },
  {
   "cell_type": "markdown",
   "metadata": {},
   "source": [
    "## Imports"
   ]
  },
  {
   "cell_type": "code",
   "execution_count": 1,
   "metadata": {
    "ExecuteTime": {
     "end_time": "2021-01-15T12:15:37.064456Z",
     "start_time": "2021-01-15T12:15:36.860656Z"
    }
   },
   "outputs": [],
   "source": [
    "from pyspark import SparkContext, SparkConf\n",
    "import pandas as pd\n",
    "from pyspark.sql import *\n",
    "from pyspark.sql import functions as F"
   ]
  },
  {
   "cell_type": "markdown",
   "metadata": {},
   "source": [
    "## Spark Context\n"
   ]
  },
  {
   "cell_type": "code",
   "execution_count": 2,
   "metadata": {
    "ExecuteTime": {
     "end_time": "2021-01-15T12:15:42.399189Z",
     "start_time": "2021-01-15T12:15:37.278979Z"
    }
   },
   "outputs": [],
   "source": [
    "conf = SparkConf().setAppName('HW1').setMaster(\"local[8]\")\n",
    "sc = SparkContext(conf=conf)"
   ]
  },
  {
   "cell_type": "code",
   "execution_count": 3,
   "metadata": {
    "ExecuteTime": {
     "end_time": "2021-01-15T12:15:42.569659Z",
     "start_time": "2021-01-15T12:15:42.401243Z"
    }
   },
   "outputs": [],
   "source": [
    "sqlContext = SQLContext(sc)"
   ]
  },
  {
   "cell_type": "markdown",
   "metadata": {
    "heading_collapsed": true
   },
   "source": [
    "## (i) Find Relevant Customer Information"
   ]
  },
  {
   "cell_type": "markdown",
   "metadata": {
    "hidden": true
   },
   "source": [
    "In this section I use the *orders.csv* and *customers.csv* files to explore the pyspark DataFrame API. In detail, I find the customer name, address and the average price of orders per customer who have\n",
    "acctbal more than 1000 and for orders placed after 1995-01-01. "
   ]
  },
  {
   "cell_type": "markdown",
   "metadata": {
    "hidden": true
   },
   "source": [
    "### Load Data"
   ]
  },
  {
   "cell_type": "markdown",
   "metadata": {
    "hidden": true
   },
   "source": [
    "First I load the content of the csv files into a spark dataframe. Then I add the appropriate table headers and delete the unneeded columns. "
   ]
  },
  {
   "cell_type": "code",
   "execution_count": 7,
   "metadata": {
    "ExecuteTime": {
     "end_time": "2021-01-15T11:53:58.531836Z",
     "start_time": "2021-01-15T11:53:52.184974Z"
    },
    "hidden": true
   },
   "outputs": [
    {
     "name": "stdout",
     "output_type": "stream",
     "text": [
      "Orders count:  15000\n",
      "root\n",
      " |-- orderkey: integer (nullable = true)\n",
      " |-- custkey: integer (nullable = true)\n",
      " |-- price: double (nullable = true)\n",
      " |-- orderdate: string (nullable = true)\n",
      "\n",
      "+--------+-------+---------+----------+\n",
      "|orderkey|custkey|    price| orderdate|\n",
      "+--------+-------+---------+----------+\n",
      "|       1|    370|172799.49|1996-01-02|\n",
      "|       2|    781| 38426.09|1996-12-01|\n",
      "|       3|   1234| 205654.3|1993-10-14|\n",
      "|       4|   1369| 56000.91|1995-10-11|\n",
      "|       5|    445|105367.67|1994-07-30|\n",
      "+--------+-------+---------+----------+\n",
      "only showing top 5 rows\n",
      "\n"
     ]
    }
   ],
   "source": [
    "orders = (\n",
    "    sqlContext.read.format(\"csv\")\n",
    "    .options(header=\"false\", inferSchema=\"True\", delimiter=\"|\", dateFormat=\"yyyy-MM-dd\")\n",
    "    .load(\"../../../../data/orders.csv\")\n",
    ")\n",
    "order_columns = [\n",
    "    \"orderkey\",\n",
    "    \"custkey\",\n",
    "    \"orderstatus\",\n",
    "    \"price\",\n",
    "    \"orderdate\",\n",
    "    \"orderpriority\",\n",
    "    \"clerk\",\n",
    "    \"shippriority\",\n",
    "    \"comment\",\n",
    "]\n",
    "orders = orders.toDF(*order_columns)[\"orderkey\", \"custkey\", \"price\", \"orderdate\"]\n",
    "print(\"Orders count: \", orders.count())\n",
    "orders.printSchema()\n",
    "orders.show(5)"
   ]
  },
  {
   "cell_type": "code",
   "execution_count": 8,
   "metadata": {
    "ExecuteTime": {
     "end_time": "2021-01-15T11:54:02.271817Z",
     "start_time": "2021-01-15T11:54:01.593300Z"
    },
    "hidden": true
   },
   "outputs": [
    {
     "name": "stdout",
     "output_type": "stream",
     "text": [
      "Customer count:  1500\n",
      "root\n",
      " |-- custkey: integer (nullable = true)\n",
      " |-- name: string (nullable = true)\n",
      " |-- addres: string (nullable = true)\n",
      " |-- acctbal: double (nullable = true)\n",
      "\n",
      "+-------+------------------+--------------------+-------+\n",
      "|custkey|              name|              addres|acctbal|\n",
      "+-------+------------------+--------------------+-------+\n",
      "|      1|Customer#000000001|   IVhzIApeRb ot,c,E| 711.56|\n",
      "|      2|Customer#000000002|XSTf4,NCwDVaWNe6t...| 121.65|\n",
      "|      3|Customer#000000003|        MG9kdTD2WBHm|7498.12|\n",
      "|      4|Customer#000000004|         XxVSJsLAGtn|2866.83|\n",
      "|      5|Customer#000000005|KvpyuHCplrB84WgAi...| 794.47|\n",
      "+-------+------------------+--------------------+-------+\n",
      "only showing top 5 rows\n",
      "\n"
     ]
    }
   ],
   "source": [
    "customers = (\n",
    "    sqlContext.read.format(\"csv\")\n",
    "    .options(header=\"false\", inferSchema=\"True\", delimiter=\"|\", dateFormat=\"yyyy-MM-dd\")\n",
    "    .load(\"../../../../data/customers.csv\")\n",
    ")\n",
    "customers_columns = [\n",
    "    \"custkey\",\n",
    "    \"name\",\n",
    "    \"addres\",\n",
    "    \"nationkey\",\n",
    "    \"phone\",\n",
    "    \"acctbal\",\n",
    "    \"mktsegment\",\n",
    "    \"comment\",\n",
    "]\n",
    "customers = customers.toDF(*customers_columns)[\"custkey\", \"name\", \"addres\", \"acctbal\"]\n",
    "print(\"Customer count: \", customers.count())\n",
    "\n",
    "customers.printSchema()\n",
    "customers.show(5)"
   ]
  },
  {
   "cell_type": "markdown",
   "metadata": {
    "hidden": true
   },
   "source": [
    "### Filter DataFrame"
   ]
  },
  {
   "cell_type": "markdown",
   "metadata": {
    "hidden": true
   },
   "source": [
    "In order to find the correct customers, I filter out orders placed before 1995-01-01 and customer with less thann 1000 acctbal. In addition I calculate the avg price for all orders per customers. "
   ]
  },
  {
   "cell_type": "code",
   "execution_count": 9,
   "metadata": {
    "ExecuteTime": {
     "end_time": "2021-01-15T11:54:10.805364Z",
     "start_time": "2021-01-15T11:54:09.603860Z"
    },
    "hidden": true
   },
   "outputs": [
    {
     "name": "stdout",
     "output_type": "stream",
     "text": [
      "Orders placed after 1995-01-01:  8134\n",
      "+-------+------------------+\n",
      "|custkey|         avg_price|\n",
      "+-------+------------------+\n",
      "|    496|143799.39299999998|\n",
      "|   1342| 147223.2709090909|\n",
      "|    463|103289.37076923078|\n",
      "+-------+------------------+\n",
      "only showing top 3 rows\n",
      "\n"
     ]
    }
   ],
   "source": [
    "# Filter Orders after 1995-01-01\n",
    "orders_filtered_by_date = orders.filter(F.to_date(orders.orderdate) >= (F.lit(\"1995-01-01\")))\n",
    "print('Orders placed after 1995-01-01: ', orders_filtered_by_date.count())\n",
    "\n",
    "# Group orders by customer keys and calculate avg price\n",
    "customers_orders = orders_filtered_by_date.groupBy(\"custkey\").agg(\n",
    "    F.avg(\"price\").alias(\"avg_price\")\n",
    ")\n",
    "customers_orders.show(3)"
   ]
  },
  {
   "cell_type": "code",
   "execution_count": 10,
   "metadata": {
    "ExecuteTime": {
     "end_time": "2021-01-15T11:54:15.993765Z",
     "start_time": "2021-01-15T11:54:15.550272Z"
    },
    "hidden": true
   },
   "outputs": [
    {
     "name": "stdout",
     "output_type": "stream",
     "text": [
      "Customers with more than 1000 acctbal:  1237\n",
      "+-------+------------------+--------------------+-------+\n",
      "|custkey|              name|              addres|acctbal|\n",
      "+-------+------------------+--------------------+-------+\n",
      "|      3|Customer#000000003|        MG9kdTD2WBHm|7498.12|\n",
      "|      4|Customer#000000004|         XxVSJsLAGtn|2866.83|\n",
      "|      6|Customer#000000006|sKZz0CsnMD7mp4Xd0...|7638.57|\n",
      "+-------+------------------+--------------------+-------+\n",
      "only showing top 3 rows\n",
      "\n"
     ]
    }
   ],
   "source": [
    "# Filter customers with less than 1000 acctbal\n",
    "customers_with_high_acctbal = customers.filter(customers.acctbal >= 1000)\n",
    "print('Customers with more than 1000 acctbal: ', customers_with_high_acctbal.count())\n",
    "customers_with_high_acctbal.show(3)"
   ]
  },
  {
   "cell_type": "code",
   "execution_count": 14,
   "metadata": {
    "ExecuteTime": {
     "end_time": "2021-01-15T11:56:44.972045Z",
     "start_time": "2021-01-15T11:56:43.673176Z"
    },
    "hidden": true
   },
   "outputs": [
    {
     "name": "stdout",
     "output_type": "stream",
     "text": [
      "We found 815 customers who placed an order after 1995-01-01 and have an acctbal with over 1000.\n"
     ]
    },
    {
     "data": {
      "text/html": [
       "<div>\n",
       "<style scoped>\n",
       "    .dataframe tbody tr th:only-of-type {\n",
       "        vertical-align: middle;\n",
       "    }\n",
       "\n",
       "    .dataframe tbody tr th {\n",
       "        vertical-align: top;\n",
       "    }\n",
       "\n",
       "    .dataframe thead th {\n",
       "        text-align: right;\n",
       "    }\n",
       "</style>\n",
       "<table border=\"1\" class=\"dataframe\">\n",
       "  <thead>\n",
       "    <tr style=\"text-align: right;\">\n",
       "      <th></th>\n",
       "      <th>custkey</th>\n",
       "      <th>name</th>\n",
       "      <th>addres</th>\n",
       "      <th>acctbal</th>\n",
       "      <th>avg_price</th>\n",
       "    </tr>\n",
       "  </thead>\n",
       "  <tbody>\n",
       "    <tr>\n",
       "      <th>0</th>\n",
       "      <td>496</td>\n",
       "      <td>Customer#000000496</td>\n",
       "      <td>Y8oYLlHme6Z4fEzkTu</td>\n",
       "      <td>8174.82</td>\n",
       "      <td>143799.393000</td>\n",
       "    </tr>\n",
       "    <tr>\n",
       "      <th>1</th>\n",
       "      <td>1342</td>\n",
       "      <td>Customer#000001342</td>\n",
       "      <td>FD6UNqfsYMKkf3ZFZdI4EaYMZ</td>\n",
       "      <td>1520.34</td>\n",
       "      <td>147223.270909</td>\n",
       "    </tr>\n",
       "    <tr>\n",
       "      <th>2</th>\n",
       "      <td>1088</td>\n",
       "      <td>Customer#000001088</td>\n",
       "      <td>YjXQtOJoM0nhClEy0,WFdNxvJ1g6xpn kL2ommEv</td>\n",
       "      <td>2098.62</td>\n",
       "      <td>121228.133333</td>\n",
       "    </tr>\n",
       "    <tr>\n",
       "      <th>3</th>\n",
       "      <td>148</td>\n",
       "      <td>Customer#000000148</td>\n",
       "      <td>BhSPlEWGvIJyT9swk vCWE</td>\n",
       "      <td>2135.60</td>\n",
       "      <td>132866.519000</td>\n",
       "    </tr>\n",
       "    <tr>\n",
       "      <th>4</th>\n",
       "      <td>1238</td>\n",
       "      <td>Customer#000001238</td>\n",
       "      <td>HGCJI27,RIIQcS20,DcJbMQuUmN3Vhzdm</td>\n",
       "      <td>4299.22</td>\n",
       "      <td>232410.616667</td>\n",
       "    </tr>\n",
       "    <tr>\n",
       "      <th>5</th>\n",
       "      <td>392</td>\n",
       "      <td>Customer#000000392</td>\n",
       "      <td>H7M6JObndO</td>\n",
       "      <td>8492.33</td>\n",
       "      <td>131020.340000</td>\n",
       "    </tr>\n",
       "    <tr>\n",
       "      <th>6</th>\n",
       "      <td>737</td>\n",
       "      <td>Customer#000000737</td>\n",
       "      <td>NdjG1k243iCLSoy1lYqMIrpvuH1Uf75</td>\n",
       "      <td>2501.74</td>\n",
       "      <td>192944.150000</td>\n",
       "    </tr>\n",
       "    <tr>\n",
       "      <th>7</th>\n",
       "      <td>1483</td>\n",
       "      <td>Customer#000001483</td>\n",
       "      <td>ZjY1C b6cOnY3</td>\n",
       "      <td>4409.70</td>\n",
       "      <td>81726.607778</td>\n",
       "    </tr>\n",
       "    <tr>\n",
       "      <th>8</th>\n",
       "      <td>623</td>\n",
       "      <td>Customer#000000623</td>\n",
       "      <td>HXiFb9oWlgqZXrJPUCEJ6zZIPxAM4m6</td>\n",
       "      <td>7887.60</td>\n",
       "      <td>137388.762857</td>\n",
       "    </tr>\n",
       "    <tr>\n",
       "      <th>9</th>\n",
       "      <td>1084</td>\n",
       "      <td>Customer#000001084</td>\n",
       "      <td>E091r836A8TPqn5</td>\n",
       "      <td>1416.75</td>\n",
       "      <td>152526.045000</td>\n",
       "    </tr>\n",
       "  </tbody>\n",
       "</table>\n",
       "</div>"
      ],
      "text/plain": [
       "   custkey                name                                    addres  \\\n",
       "0      496  Customer#000000496                        Y8oYLlHme6Z4fEzkTu   \n",
       "1     1342  Customer#000001342                 FD6UNqfsYMKkf3ZFZdI4EaYMZ   \n",
       "2     1088  Customer#000001088  YjXQtOJoM0nhClEy0,WFdNxvJ1g6xpn kL2ommEv   \n",
       "3      148  Customer#000000148                    BhSPlEWGvIJyT9swk vCWE   \n",
       "4     1238  Customer#000001238         HGCJI27,RIIQcS20,DcJbMQuUmN3Vhzdm   \n",
       "5      392  Customer#000000392                                H7M6JObndO   \n",
       "6      737  Customer#000000737           NdjG1k243iCLSoy1lYqMIrpvuH1Uf75   \n",
       "7     1483  Customer#000001483                             ZjY1C b6cOnY3   \n",
       "8      623  Customer#000000623           HXiFb9oWlgqZXrJPUCEJ6zZIPxAM4m6   \n",
       "9     1084  Customer#000001084                           E091r836A8TPqn5   \n",
       "\n",
       "   acctbal      avg_price  \n",
       "0  8174.82  143799.393000  \n",
       "1  1520.34  147223.270909  \n",
       "2  2098.62  121228.133333  \n",
       "3  2135.60  132866.519000  \n",
       "4  4299.22  232410.616667  \n",
       "5  8492.33  131020.340000  \n",
       "6  2501.74  192944.150000  \n",
       "7  4409.70   81726.607778  \n",
       "8  7887.60  137388.762857  \n",
       "9  1416.75  152526.045000  "
      ]
     },
     "execution_count": 14,
     "metadata": {},
     "output_type": "execute_result"
    }
   ],
   "source": [
    "# Join\n",
    "result = customers_with_high_acctbal.join(customers_orders, ['custkey'], how='inner')\n",
    "print(f'We found {result.count()} customers who placed an order after 1995-01-01 and have an acctbal with over 1000.',)\n",
    "result.limit(10).toPandas()"
   ]
  },
  {
   "cell_type": "code",
   "execution_count": null,
   "metadata": {
    "ExecuteTime": {
     "end_time": "2021-01-15T11:53:23.506170Z",
     "start_time": "2021-01-15T11:52:05.245Z"
    },
    "hidden": true
   },
   "outputs": [],
   "source": [
    "### price needs to be calcluated"
   ]
  },
  {
   "cell_type": "markdown",
   "metadata": {
    "hidden": true
   },
   "source": [
    "### Save Results"
   ]
  },
  {
   "cell_type": "code",
   "execution_count": 18,
   "metadata": {
    "ExecuteTime": {
     "end_time": "2021-01-15T11:58:48.810386Z",
     "start_time": "2021-01-15T11:58:47.612060Z"
    },
    "hidden": true
   },
   "outputs": [],
   "source": [
    "result['name', 'addres', 'avg_price'].repartition(1).write.csv('output_b_i',   sep='|', header=False)"
   ]
  },
  {
   "cell_type": "markdown",
   "metadata": {},
   "source": [
    "## (ii): Find Shortest Path"
   ]
  },
  {
   "cell_type": "markdown",
   "metadata": {},
   "source": [
    "### Load Graph Data"
   ]
  },
  {
   "cell_type": "code",
   "execution_count": 4,
   "metadata": {
    "ExecuteTime": {
     "end_time": "2021-01-15T12:15:48.763153Z",
     "start_time": "2021-01-15T12:15:42.575326Z"
    }
   },
   "outputs": [],
   "source": [
    "graph_data = (\n",
    "    sqlContext.read.format(\"csv\")\n",
    "    .options(header=\"true\", inferSchema=\"True\", delimiter=\"\\t\")\n",
    "    .load(\"../../../../data/ca-GrQc.txt\")\n",
    ").repartition(100).cache()"
   ]
  },
  {
   "cell_type": "code",
   "execution_count": 5,
   "metadata": {
    "ExecuteTime": {
     "end_time": "2021-01-15T12:15:56.373315Z",
     "start_time": "2021-01-15T12:15:48.765555Z"
    }
   },
   "outputs": [
    {
     "name": "stdout",
     "output_type": "stream",
     "text": [
      "+----------+--------+\n",
      "|FromNodeId|ToNodeId|\n",
      "+----------+--------+\n",
      "|     21943|   15850|\n",
      "|     21771|    5767|\n",
      "|     19568|   25034|\n",
      "|     16994|   22644|\n",
      "|     23559|   18757|\n",
      "+----------+--------+\n",
      "only showing top 5 rows\n",
      "\n",
      "There are 5242 distinct nodes\n"
     ]
    }
   ],
   "source": [
    "graph_data.show(5)\n",
    "print(f'There are {graph_data.select(F.col(\"ToNodeId\")).distinct().count()} distinct nodes')"
   ]
  },
  {
   "cell_type": "code",
   "execution_count": 6,
   "metadata": {
    "ExecuteTime": {
     "end_time": "2021-01-15T12:15:56.408229Z",
     "start_time": "2021-01-15T12:15:56.375710Z"
    }
   },
   "outputs": [
    {
     "name": "stdout",
     "output_type": "stream",
     "text": [
      "root\n",
      " |-- FromNodeId: integer (nullable = true)\n",
      " |-- ToNodeId: integer (nullable = true)\n",
      "\n"
     ]
    }
   ],
   "source": [
    "graph_data.printSchema()"
   ]
  },
  {
   "cell_type": "markdown",
   "metadata": {},
   "source": [
    "### Create Initial DataFrames"
   ]
  },
  {
   "cell_type": "code",
   "execution_count": 15,
   "metadata": {
    "ExecuteTime": {
     "end_time": "2021-01-15T12:18:55.378977Z",
     "start_time": "2021-01-15T12:18:55.371031Z"
    }
   },
   "outputs": [],
   "source": [
    "def to_path(row):\n",
    "    path = \"\"\n",
    "    for i in range(len(row)):\n",
    "        path += str(row[str(i)])\n",
    "        path += \", \"\n",
    "    return row['0'], row[str(len(row)-1)], path[:-2], len(row)-1"
   ]
  },
  {
   "cell_type": "code",
   "execution_count": 18,
   "metadata": {
    "ExecuteTime": {
     "end_time": "2021-01-15T12:19:27.285625Z",
     "start_time": "2021-01-15T12:19:25.467896Z"
    }
   },
   "outputs": [
    {
     "name": "stdout",
     "output_type": "stream",
     "text": [
      "+-----+----+\n",
      "|    0|   1|\n",
      "+-----+----+\n",
      "|17274|4298|\n",
      "|17274|4416|\n",
      "+-----+----+\n",
      "\n",
      "+-----+-------------------+-----------+----+\n",
      "|17274|destination-node-id|       path|cost|\n",
      "+-----+-------------------+-----------+----+\n",
      "|17274|               4416|17274, 4416|   1|\n",
      "|17274|               4298|17274, 4298|   1|\n",
      "+-----+-------------------+-----------+----+\n",
      "\n"
     ]
    }
   ],
   "source": [
    "search = graph_data.filter(graph_data.FromNodeId == 17274)\n",
    "search = search.toDF('0', '1').cache()\n",
    "search.show()\n",
    "shortest_path = search.rdd.map(to_path).toDF().toDF('17274', 'destination-node-id', 'path', 'cost').repartition(50).cache()\n",
    "shortest_path.show()"
   ]
  },
  {
   "cell_type": "code",
   "execution_count": 19,
   "metadata": {
    "ExecuteTime": {
     "end_time": "2021-01-15T12:19:29.625789Z",
     "start_time": "2021-01-15T12:19:29.618499Z"
    }
   },
   "outputs": [],
   "source": [
    "import datetime\n",
    "\n",
    "def get_stats(i, search, shortest_path, graph_data,\n",
    "       start, end, desc, cache, part):\n",
    "    return {\n",
    "        \"i\": i,\n",
    "        \"search\": search.rdd.getNumPartitions(),\n",
    "        \"shortest_path\": shortest_path.rdd.getNumPartitions(),\n",
    "        \"graph_data\": graph_data.rdd.getNumPartitions(),\n",
    "        \"time\": str(end - start),\n",
    "        \"timen\": (end - start).seconds + (end - start).microseconds * 10 **-6,\n",
    "        \"desc\": desc,\n",
    "        \"cache\": cache,\n",
    "        \"part\": part,\n",
    "    }"
   ]
  },
  {
   "cell_type": "code",
   "execution_count": 20,
   "metadata": {
    "ExecuteTime": {
     "end_time": "2021-01-15T12:19:31.124973Z",
     "start_time": "2021-01-15T12:19:31.119842Z"
    }
   },
   "outputs": [],
   "source": [
    "def procRDD(rdd, cache=True, part=False, npart=16):\n",
    "    rdd = rdd if not part else rdd.repartition(npart)\n",
    "    return rdd if not cache else rdd.cache()"
   ]
  },
  {
   "cell_type": "code",
   "execution_count": 21,
   "metadata": {
    "ExecuteTime": {
     "end_time": "2021-01-15T12:19:31.257469Z",
     "start_time": "2021-01-15T12:19:31.250079Z"
    }
   },
   "outputs": [],
   "source": [
    "def run(\n",
    "    search,\n",
    "    graph_data,\n",
    "    shortest_path,\n",
    "    description,\n",
    "    cache=True,\n",
    "    part=False,\n",
    "    npart=16,\n",
    "    n=100,\n",
    "):\n",
    "    times = []\n",
    "    for i in range(2, n + 2):\n",
    "\n",
    "        # Initialize\n",
    "        start = datetime.datetime.now()\n",
    "        startnode_column = str(i - 1)\n",
    "\n",
    "        # Add one node to paths\n",
    "        search = search.join(\n",
    "            graph_data.withColumnRenamed(\"ToNodeId\", f\"{i}\"),\n",
    "            F.col(\"FromNodeId\") == F.col(startnode_column),\n",
    "            how=\"left\",\n",
    "        )\n",
    "\n",
    "        # Delete duplicates\n",
    "        search = search.drop(\"FromNodeId\").drop_duplicates(subset=[f\"{i}\"]).cache()\n",
    "\n",
    "        # Filter out longer paths\n",
    "        search = search.join(\n",
    "            shortest_path.withColumnRenamed(\"destination-node-id\", f\"{i}\"),\n",
    "            on=[f\"{i}\"],\n",
    "            how=\"leftanti\",\n",
    "        ).cache()\n",
    "\n",
    "        # Add new paths to shortest path dataframe\n",
    "        if not search.rdd.isEmpty():\n",
    "            new_paths = procRDD(\n",
    "                search.rdd.map(to_path).toDF(\n",
    "                    [\"17274\", \"destination-node-id\", \"path\", \"cost\"]\n",
    "                ),\n",
    "                cache,\n",
    "                part,\n",
    "                npart,\n",
    "            ).cache()\n",
    "\n",
    "            shortest_path = procRDD(shortest_path.union(new_paths), cache, part, npart)\n",
    "            print(f\"{shortest_path.count()} shortest paths found. \\n\")\n",
    "            end = datetime.datetime.now()\n",
    "            times.append(\n",
    "                get_stats(\n",
    "                    i,\n",
    "                    search,\n",
    "                    shortest_path,\n",
    "                    graph_data,\n",
    "                    start,\n",
    "                    end,\n",
    "                    description,\n",
    "                    cache,\n",
    "                    part,\n",
    "                )\n",
    "            )\n",
    "        else:\n",
    "            break\n",
    "    return times, shortest_path"
   ]
  },
  {
   "cell_type": "code",
   "execution_count": 22,
   "metadata": {
    "ExecuteTime": {
     "end_time": "2021-01-15T12:20:36.227742Z",
     "start_time": "2021-01-15T12:19:32.184060Z"
    }
   },
   "outputs": [
    {
     "name": "stdout",
     "output_type": "stream",
     "text": [
      "21 shortest paths found. \n",
      "\n",
      "116 shortest paths found. \n",
      "\n",
      "647 shortest paths found. \n",
      "\n",
      "1934 shortest paths found. \n",
      "\n",
      "3342 shortest paths found. \n",
      "\n",
      "3916 shortest paths found. \n",
      "\n",
      "4084 shortest paths found. \n",
      "\n",
      "4137 shortest paths found. \n",
      "\n",
      "4151 shortest paths found. \n",
      "\n",
      "4158 shortest paths found. \n",
      "\n"
     ]
    },
    {
     "name": "stderr",
     "output_type": "stream",
     "text": [
      "/opt/conda/lib/python3.8/site-packages/pyspark/sql/session.py:381: UserWarning: inferring schema from dict is deprecated,please use pyspark.sql.Row instead\n",
      "  warnings.warn(\"inferring schema from dict is deprecated,\"\n"
     ]
    },
    {
     "name": "stdout",
     "output_type": "stream",
     "text": [
      "+---+------+----------+-------------+--------------+-----------------+\n",
      "|  i|search|graph_data|shortest_path|          time|             desc|\n",
      "+---+------+----------+-------------+--------------+-----------------+\n",
      "|  2|   200|       100|           32|0:00:04.402319|cache + partition|\n",
      "|  3|   200|       100|           32|0:00:04.248332|cache + partition|\n",
      "|  4|   200|       100|           32|0:00:04.874804|cache + partition|\n",
      "|  5|   200|       100|           32|0:00:07.244846|cache + partition|\n",
      "|  6|   200|       100|           32|0:00:07.243627|cache + partition|\n",
      "|  7|   200|       100|           32|0:00:06.901601|cache + partition|\n",
      "|  8|   200|       100|           32|0:00:05.431574|cache + partition|\n",
      "|  9|   200|       100|           32|0:00:05.299704|cache + partition|\n",
      "| 10|   200|       100|           32|0:00:06.404287|cache + partition|\n",
      "| 11|   200|       100|           32|0:00:06.319385|cache + partition|\n",
      "+---+------+----------+-------------+--------------+-----------------+\n",
      "\n",
      "+-----+-------------------+--------------------+----+\n",
      "|17274|destination-node-id|                path|cost|\n",
      "+-----+-------------------+--------------------+----+\n",
      "|17274|               4164|17274, 4416, 9889...|   4|\n",
      "|17274|              14550|17274, 4416, 2500...|   6|\n",
      "|17274|              15714|17274, 4416, 1314...|   6|\n",
      "|17274|              25435|17274, 4416, 3630...|   5|\n",
      "|17274|                 88|17274, 4416, 2393...|   6|\n",
      "|17274|               7768|17274, 4416, 1314...|   5|\n",
      "|17274|              22483|17274, 4416, 2500...|   6|\n",
      "|17274|                855|17274, 4416, 2500...|  10|\n",
      "|17274|               4878|17274, 4416, 2393...|   6|\n",
      "|17274|               4183|17274, 4416, 2500...|   6|\n",
      "|17274|              24280|17274, 4416, 9889...|   4|\n",
      "|17274|              23383|17274, 4416, 2393...|   6|\n",
      "|17274|              25996|17274, 4416, 9889...|   6|\n",
      "|17274|              15774|17274, 4416, 2500...|   9|\n",
      "|17274|               3032|17274, 4416, 1314...|   5|\n",
      "|17274|              18586|17274, 4416, 2393...|   7|\n",
      "|17274|              19677|17274, 4416, 1314...|   6|\n",
      "|17274|               8589|17274, 4416, 1314...|   4|\n",
      "|17274|                345|17274, 4416, 9889...|   4|\n",
      "|17274|              11610|17274, 4416, 2500...|   5|\n",
      "+-----+-------------------+--------------------+----+\n",
      "only showing top 20 rows\n",
      "\n"
     ]
    }
   ],
   "source": [
    "times, shortest_paths = run(search, graph_data,shortest_path, \"cache + partition\", True, True,  32)\n",
    "\n",
    "sqlContext.createDataFrame(times).select(\"i\", \"search\", \"graph_data\", \"shortest_path\", \"time\", \"desc\").show()\n",
    "shortest_paths.show()"
   ]
  },
  {
   "cell_type": "markdown",
   "metadata": {
    "ExecuteTime": {
     "end_time": "2021-01-10T16:12:28.620888Z",
     "start_time": "2021-01-10T16:12:08.169Z"
    }
   },
   "source": [
    "### Save Results"
   ]
  },
  {
   "cell_type": "code",
   "execution_count": 23,
   "metadata": {
    "ExecuteTime": {
     "end_time": "2021-01-15T12:21:59.136131Z",
     "start_time": "2021-01-15T12:21:58.588901Z"
    }
   },
   "outputs": [],
   "source": [
    "shortest_paths.repartition(1).write.csv('output_b_ii',   sep='|', header=True)"
   ]
  }
 ],
 "metadata": {
  "kernelspec": {
   "display_name": "Python 3",
   "language": "python",
   "name": "python3"
  },
  "language_info": {
   "codemirror_mode": {
    "name": "ipython",
    "version": 3
   },
   "file_extension": ".py",
   "mimetype": "text/x-python",
   "name": "python",
   "nbconvert_exporter": "python",
   "pygments_lexer": "ipython3",
   "version": "3.8.5"
  },
  "toc": {
   "base_numbering": 1,
   "nav_menu": {},
   "number_sections": false,
   "sideBar": true,
   "skip_h1_title": true,
   "title_cell": "Table of Contents",
   "title_sidebar": "Contents",
   "toc_cell": false,
   "toc_position": {},
   "toc_section_display": true,
   "toc_window_display": true
  }
 },
 "nbformat": 4,
 "nbformat_minor": 4
}
