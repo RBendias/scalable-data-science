{
 "cells": [
  {
   "cell_type": "markdown",
   "metadata": {},
   "source": [
    "# Recommendation Systems "
   ]
  },
  {
   "cell_type": "markdown",
   "metadata": {},
   "source": [
    "**In this notebook:**\n",
    "* Load IMDB dataset\n",
    "* Explore dataset\n",
    "* Build two movie recommendation Classifier\n",
    "* Evaluate classifier"
   ]
  },
  {
   "cell_type": "markdown",
   "metadata": {},
   "source": [
    "## Imports"
   ]
  },
  {
   "cell_type": "code",
   "execution_count": 1,
   "metadata": {
    "ExecuteTime": {
     "end_time": "2021-02-06T11:06:39.632251Z",
     "start_time": "2021-02-06T11:06:39.248150Z"
    }
   },
   "outputs": [],
   "source": [
    "import os\n",
    "from pyspark.sql import SQLContext\n",
    "import pandas as pd\n",
    "from pyspark import SparkContext, SparkConf\n",
    "from pyspark.sql.functions import *\n",
    "from pyspark.sql.window import Window\n",
    "from pyspark.sql.functions import row_number\n",
    "from pyspark.ml.evaluation import RegressionEvaluator\n",
    "from pyspark.ml.recommendation import ALS\n",
    "from pyspark.ml.tuning import CrossValidator, ParamGridBuilder\n",
    "from pyspark.sql import Row\n",
    "import numpy as np\n",
    "from time import time\n",
    "\n",
    "%matplotlib inline"
   ]
  },
  {
   "cell_type": "markdown",
   "metadata": {},
   "source": [
    "## Evironment"
   ]
  },
  {
   "cell_type": "markdown",
   "metadata": {},
   "source": [
    "Connecting to Spark cluster. "
   ]
  },
  {
   "cell_type": "code",
   "execution_count": 2,
   "metadata": {
    "ExecuteTime": {
     "end_time": "2021-02-06T11:06:46.375908Z",
     "start_time": "2021-02-06T11:06:40.492504Z"
    }
   },
   "outputs": [],
   "source": [
    "conf = SparkConf().setAppName(\"HW2\").setMaster(\"local[4]\")\n",
    "sc = SparkContext(conf=conf)\n",
    "sqlContext = SQLContext(sc)\n"
   ]
  },
  {
   "cell_type": "markdown",
   "metadata": {},
   "source": [
    "## Data Loading"
   ]
  },
  {
   "cell_type": "markdown",
   "metadata": {},
   "source": [
    "Loading IMDB data into Spark data frame."
   ]
  },
  {
   "cell_type": "code",
   "execution_count": 3,
   "metadata": {
    "ExecuteTime": {
     "end_time": "2021-02-06T11:06:46.381405Z",
     "start_time": "2021-02-06T11:06:46.377839Z"
    }
   },
   "outputs": [],
   "source": [
    "data_path = \"../../../data/HW2/\""
   ]
  },
  {
   "cell_type": "code",
   "execution_count": 4,
   "metadata": {
    "ExecuteTime": {
     "end_time": "2021-02-06T11:06:55.454975Z",
     "start_time": "2021-02-06T11:06:46.385584Z"
    }
   },
   "outputs": [],
   "source": [
    "users = (\n",
    "    sqlContext.read.format(\"csv\")\n",
    "    .options(\n",
    "        header=\"true\",\n",
    "        inferSchema=\"True\",\n",
    "        delimiter=\",\",\n",
    "    )\n",
    "    .load(\"file://\" + os.path.abspath(data_path) + \"/ratings.csv\")\n",
    ")\n",
    "\n",
    "movies = (\n",
    "    sqlContext.read.format(\"csv\")\n",
    "    .options(\n",
    "        header=\"true\",\n",
    "        inferSchema=\"True\",\n",
    "        delimiter=\",\",\n",
    "    )\n",
    "    .load(\"file://\" + os.path.abspath(data_path) + \"/movies.csv\")\n",
    ")\n"
   ]
  },
  {
   "cell_type": "markdown",
   "metadata": {},
   "source": [
    "## Exploring Dataset"
   ]
  },
  {
   "cell_type": "markdown",
   "metadata": {},
   "source": [
    "Exploring dataset and searching for:\n",
    "* top-10 movies with the largest number of ratings,\n",
    "* top-10 movies with the highest average rating grouped by genre, and\n",
    "* common support for all pair of the first 100 movies. "
   ]
  },
  {
   "cell_type": "code",
   "execution_count": 5,
   "metadata": {
    "ExecuteTime": {
     "end_time": "2021-02-06T11:06:58.381039Z",
     "start_time": "2021-02-06T11:06:55.456529Z"
    }
   },
   "outputs": [
    {
     "name": "stdout",
     "output_type": "stream",
     "text": [
      "+------+-------+------+---------+\n",
      "|userId|movieId|rating|timestamp|\n",
      "+------+-------+------+---------+\n",
      "|     1|      1|   4.0|964982703|\n",
      "|     1|      3|   4.0|964981247|\n",
      "+------+-------+------+---------+\n",
      "only showing top 2 rows\n",
      "\n",
      "+-------+------------------+----------------+------------------+--------------------+\n",
      "|summary|            userId|         movieId|            rating|           timestamp|\n",
      "+-------+------------------+----------------+------------------+--------------------+\n",
      "|  count|            100836|          100836|            100836|              100836|\n",
      "|   mean|326.12756356856676|19435.2957177992| 3.501556983616962|1.2059460873684695E9|\n",
      "| stddev| 182.6184914635004|35530.9871987003|1.0425292390606342|2.1626103599513078E8|\n",
      "|    min|                 1|               1|               0.5|           828124615|\n",
      "|    max|               610|          193609|               5.0|          1537799250|\n",
      "+-------+------------------+----------------+------------------+--------------------+\n",
      "\n",
      "+-------+----------------+--------------------+\n",
      "|movieId|           title|              genres|\n",
      "+-------+----------------+--------------------+\n",
      "|      1|Toy Story (1995)|Adventure|Animati...|\n",
      "|      2|  Jumanji (1995)|Adventure|Childre...|\n",
      "+-------+----------------+--------------------+\n",
      "only showing top 2 rows\n",
      "\n",
      "+-------+------------------+--------------------+------------------+\n",
      "|summary|           movieId|               title|            genres|\n",
      "+-------+------------------+--------------------+------------------+\n",
      "|  count|              9742|                9742|              9742|\n",
      "|   mean|42200.353623485935|                null|              null|\n",
      "| stddev| 52160.49485443825|                null|              null|\n",
      "|    min|                 1|\"11'09\"\"01 - Sept...|(no genres listed)|\n",
      "|    max|            193609|À nous la liberté...|           Western|\n",
      "+-------+------------------+--------------------+------------------+\n",
      "\n"
     ]
    }
   ],
   "source": [
    "# User Data Frame Description\n",
    "users.show(2)\n",
    "users.describe().show()\n",
    "# Movies Data Frame Description\n",
    "movies.show(2)\n",
    "movies.describe().show()"
   ]
  },
  {
   "cell_type": "code",
   "execution_count": 6,
   "metadata": {
    "ExecuteTime": {
     "end_time": "2021-02-06T11:06:58.979507Z",
     "start_time": "2021-02-06T11:06:58.393731Z"
    }
   },
   "outputs": [
    {
     "name": "stdout",
     "output_type": "stream",
     "text": [
      "+-------+--------------------+--------------------+------+------+---------+\n",
      "|movieId|               title|              genres|userId|rating|timestamp|\n",
      "+-------+--------------------+--------------------+------+------+---------+\n",
      "|      1|    Toy Story (1995)|Adventure|Animati...|     1|   4.0|964982703|\n",
      "|      3|Grumpier Old Men ...|      Comedy|Romance|     1|   4.0|964981247|\n",
      "|      6|         Heat (1995)|Action|Crime|Thri...|     1|   4.0|964982224|\n",
      "|     47|Seven (a.k.a. Se7...|    Mystery|Thriller|     1|   5.0|964983815|\n",
      "|     50|Usual Suspects, T...|Crime|Mystery|Thr...|     1|   5.0|964982931|\n",
      "|     70|From Dusk Till Da...|Action|Comedy|Hor...|     1|   3.0|964982400|\n",
      "|    101|Bottle Rocket (1996)|Adventure|Comedy|...|     1|   5.0|964980868|\n",
      "|    110|   Braveheart (1995)|    Action|Drama|War|     1|   4.0|964982176|\n",
      "|    151|      Rob Roy (1995)|Action|Drama|Roma...|     1|   5.0|964984041|\n",
      "|    157|Canadian Bacon (1...|          Comedy|War|     1|   5.0|964984100|\n",
      "|    163|    Desperado (1995)|Action|Romance|We...|     1|   5.0|964983650|\n",
      "|    216|Billy Madison (1995)|              Comedy|     1|   5.0|964981208|\n",
      "|    223|       Clerks (1994)|              Comedy|     1|   3.0|964980985|\n",
      "|    231|Dumb & Dumber (Du...|    Adventure|Comedy|     1|   5.0|964981179|\n",
      "|    235|      Ed Wood (1994)|        Comedy|Drama|     1|   4.0|964980908|\n",
      "|    260|Star Wars: Episod...|Action|Adventure|...|     1|   5.0|964981680|\n",
      "|    296| Pulp Fiction (1994)|Comedy|Crime|Dram...|     1|   3.0|964982967|\n",
      "|    316|     Stargate (1994)|Action|Adventure|...|     1|   3.0|964982310|\n",
      "|    333|    Tommy Boy (1995)|              Comedy|     1|   5.0|964981179|\n",
      "|    349|Clear and Present...|Action|Crime|Dram...|     1|   4.0|964982563|\n",
      "+-------+--------------------+--------------------+------+------+---------+\n",
      "only showing top 20 rows\n",
      "\n"
     ]
    }
   ],
   "source": [
    "# movies rating table \n",
    "movies_ratings = movies.join(users,\"movieId\", \"right\")\n",
    "movies_ratings.show()"
   ]
  },
  {
   "cell_type": "code",
   "execution_count": 8,
   "metadata": {
    "ExecuteTime": {
     "end_time": "2021-02-05T16:48:27.872517Z",
     "start_time": "2021-02-05T16:48:24.782020Z"
    }
   },
   "outputs": [
    {
     "name": "stdout",
     "output_type": "stream",
     "text": [
      "+-------+--------------------+-----+\n",
      "|movieId|               title|count|\n",
      "+-------+--------------------+-----+\n",
      "|    356| Forrest Gump (1994)|  329|\n",
      "|    318|Shawshank Redempt...|  317|\n",
      "|    296| Pulp Fiction (1994)|  307|\n",
      "|    593|Silence of the La...|  279|\n",
      "|   2571|  Matrix, The (1999)|  278|\n",
      "|    260|Star Wars: Episod...|  251|\n",
      "|    480|Jurassic Park (1993)|  238|\n",
      "|    110|   Braveheart (1995)|  237|\n",
      "|    589|Terminator 2: Jud...|  224|\n",
      "|    527|Schindler's List ...|  220|\n",
      "+-------+--------------------+-----+\n",
      "only showing top 10 rows\n",
      "\n"
     ]
    }
   ],
   "source": [
    "# Names of the top-10 movies with the largest number of ratings\n",
    "movies_ratings.groupby([\"movieId\", \"title\"]).count().sort(col(\"count\").desc()).show(10)"
   ]
  },
  {
   "cell_type": "code",
   "execution_count": 9,
   "metadata": {
    "ExecuteTime": {
     "end_time": "2021-02-05T16:48:41.328510Z",
     "start_time": "2021-02-05T16:48:27.877875Z"
    }
   },
   "outputs": [
    {
     "name": "stdout",
     "output_type": "stream",
     "text": [
      "+-------+--------------------+-----------------+------------------+\n",
      "|movieId|               title|      avg(rating)|             genre|\n",
      "+-------+--------------------+-----------------+------------------+\n",
      "| 147300|Adventures Of She...|              5.0|             Crime|\n",
      "|    876|Supercop 2 (Proje...|              5.0|             Crime|\n",
      "| 179133|Loving Vincent (2...|              5.0|             Crime|\n",
      "| 147286|The Adventures of...|              5.0|             Crime|\n",
      "|  80124|Sisters (Syostry)...|              5.0|             Crime|\n",
      "|  59814|   Ex Drummer (2007)|              5.0|             Crime|\n",
      "| 109241|On the Other Side...|              5.0|             Crime|\n",
      "|  26840|Sonatine (Sonachi...|              5.0|             Crime|\n",
      "|   8238|Little Murders (1...|              5.0|             Crime|\n",
      "|   6086|  I, the Jury (1982)|              5.0|             Crime|\n",
      "|    496|What Happened Was...|              5.0|           Romance|\n",
      "|  67618|Strictly Sexual (...|              5.0|           Romance|\n",
      "|   8911|Raise Your Voice ...|              5.0|           Romance|\n",
      "| 113829|One I Love, The (...|              5.0|           Romance|\n",
      "| 114265|      Laggies (2014)|              5.0|           Romance|\n",
      "|  26928|Summer's Tale, A ...|              5.0|           Romance|\n",
      "|  60737|Watching the Dete...|              5.0|           Romance|\n",
      "|  25906|Mr. Skeffington (...|              5.0|           Romance|\n",
      "|   6201|    Lady Jane (1986)|              5.0|           Romance|\n",
      "|   3792|Duel in the Sun (...|              5.0|           Romance|\n",
      "|    496|What Happened Was...|              5.0|          Thriller|\n",
      "|    876|Supercop 2 (Proje...|              5.0|          Thriller|\n",
      "|  27704|Battle Royale 2: ...|              5.0|          Thriller|\n",
      "|   6086|  I, the Jury (1982)|              5.0|          Thriller|\n",
      "| 164367|The Girl with All...|              5.0|          Thriller|\n",
      "| 100906| Maniac Cop 2 (1990)|              5.0|          Thriller|\n",
      "|  76091|Mother (Madeo) (2...|              5.0|          Thriller|\n",
      "|   5416|      Cherish (2002)|              5.0|          Thriller|\n",
      "|  27751| 'Salem's Lot (2004)|              5.0|          Thriller|\n",
      "|   1631|Assignment, The (...|              5.0|          Thriller|\n",
      "| 150554| The Love Bug (1997)|              5.0|         Adventure|\n",
      "|     53|     Lamerica (1994)|              5.0|         Adventure|\n",
      "|     53|     Lamerica (1994)|              5.0|         Adventure|\n",
      "|  33138|  Palindromes (2004)|              5.0|         Adventure|\n",
      "| 126921|The Fox and the H...|              5.0|         Adventure|\n",
      "| 172793|Vovka in the King...|              5.0|         Adventure|\n",
      "| 124851|     Delirium (2014)|              5.0|         Adventure|\n",
      "| 175387|On the Trail of t...|              5.0|         Adventure|\n",
      "| 156025|Ice Age: The Grea...|              5.0|         Adventure|\n",
      "|  85295|Scooby-Doo! Curse...|              5.0|         Adventure|\n",
      "|    148|Awfully Big Adven...|              5.0|             Drama|\n",
      "|    496|What Happened Was...|              5.0|             Drama|\n",
      "|  67618|Strictly Sexual (...|              5.0|             Drama|\n",
      "| 113829|One I Love, The (...|              5.0|             Drama|\n",
      "|     53|     Lamerica (1994)|              5.0|             Drama|\n",
      "|     53|     Lamerica (1994)|              5.0|             Drama|\n",
      "|  26350|Passenger, The (P...|              5.0|             Drama|\n",
      "|  25887|Tales of Manhatta...|              5.0|             Drama|\n",
      "|  27373|          61* (2001)|              5.0|             Drama|\n",
      "|  33138|  Palindromes (2004)|              5.0|             Drama|\n",
      "|   7122|King of Hearts (1...|              5.0|               War|\n",
      "|  27704|Battle Royale 2: ...|              5.0|               War|\n",
      "| 122092|        Guy X (2005)|              5.0|               War|\n",
      "|  69860|     Eichmann (2007)|              5.0|               War|\n",
      "| 140627|Battle For Sevast...|              5.0|               War|\n",
      "|  70451|    Max Manus (2008)|              5.0|               War|\n",
      "|   2972|Red Sorghum (Hong...|              5.0|               War|\n",
      "|   6818|Come and See (Idi...|              5.0|               War|\n",
      "|   6818|Come and See (Idi...|              5.0|               War|\n",
      "|  64501|Che: Part Two (2008)|              5.0|               War|\n",
      "|   5513|Martin Lawrence L...|              5.0|       Documentary|\n",
      "| 152711|Who Killed Chea V...|              5.0|       Documentary|\n",
      "|  84273|Zeitgeist: Moving...|              5.0|       Documentary|\n",
      "| 167064|I Am Not Your Neg...|              5.0|       Documentary|\n",
      "|  86237|  Connections (1978)|              5.0|       Documentary|\n",
      "|  44943|         9/11 (2002)|              5.0|       Documentary|\n",
      "| 132333|         Seve (2014)|              5.0|       Documentary|\n",
      "| 187717|Won't You Be My N...|              5.0|       Documentary|\n",
      "|   2824| On the Ropes (1999)|              5.0|       Documentary|\n",
      "|   7096|Rivers and Tides ...|              5.0|       Documentary|\n",
      "| 150554| The Love Bug (1997)|              5.0|           Fantasy|\n",
      "| 159811|The Bremen Town M...|              5.0|           Fantasy|\n",
      "| 175397|In the blue sea, ...|              5.0|           Fantasy|\n",
      "|  95311|       Presto (2008)|              5.0|           Fantasy|\n",
      "| 121781|Stuart Little 3: ...|              5.0|           Fantasy|\n",
      "| 172793|Vovka in the King...|              5.0|           Fantasy|\n",
      "|  72692|Mickey's Once Upo...|              5.0|           Fantasy|\n",
      "|  42556|7 Faces of Dr. La...|              5.0|           Fantasy|\n",
      "| 120138|           PK (2014)|              5.0|           Fantasy|\n",
      "| 120130|Into the Forest o...|              5.0|           Fantasy|\n",
      "| 142444|   The Editor (2015)|              5.0|           Mystery|\n",
      "| 147300|Adventures Of She...|              5.0|           Mystery|\n",
      "| 118894|Scooby-Doo! Abrac...|              5.0|           Mystery|\n",
      "| 147286|The Adventures of...|              5.0|           Mystery|\n",
      "|  79897|      Get Low (2009)|              5.0|           Mystery|\n",
      "|  42556|7 Faces of Dr. La...|              5.0|           Mystery|\n",
      "| 120138|           PK (2014)|              5.0|           Mystery|\n",
      "|  85295|Scooby-Doo! Curse...|              5.0|           Mystery|\n",
      "|  76091|Mother (Madeo) (2...|              5.0|           Mystery|\n",
      "|  96832|  Holy Motors (2012)|              5.0|           Mystery|\n",
      "|   7815| True Stories (1986)|              5.0|           Musical|\n",
      "|   3086|Babes in Toyland ...|              5.0|           Musical|\n",
      "|   8738|Woman Is a Woman,...|              5.0|           Musical|\n",
      "|   8580|Into the Woods (1...|              5.0|           Musical|\n",
      "|  96832|  Holy Motors (2012)|              5.0|           Musical|\n",
      "|   5537|  Satin Rouge (2002)|              5.0|           Musical|\n",
      "|  93008|Very Potter Seque...|              5.0|           Musical|\n",
      "|  44889|Reefer Madness: T...|             4.75|           Musical|\n",
      "|  44889|Reefer Madness: T...|             4.75|           Musical|\n",
      "|   6345|Chorus Line, A (1...|4.666666666666667|           Musical|\n",
      "| 157775|Tenchi Muyô! In L...|              5.0|         Animation|\n",
      "| 118894|Scooby-Doo! Abrac...|              5.0|         Animation|\n",
      "| 172583|Investigation Hel...|              5.0|         Animation|\n",
      "| 138966|Nasu: Summer in A...|              5.0|         Animation|\n",
      "| 126921|The Fox and the H...|              5.0|         Animation|\n",
      "| 159811|The Bremen Town M...|              5.0|         Animation|\n",
      "| 179133|Loving Vincent (2...|              5.0|         Animation|\n",
      "| 175397|In the blue sea, ...|              5.0|         Animation|\n",
      "|  95311|       Presto (2008)|              5.0|         Animation|\n",
      "| 146684|Cosmic Scrat-tast...|              5.0|         Animation|\n",
      "|   4298|Rififi (Du rififi...|             4.75|         Film-Noir|\n",
      "|   4298|Rififi (Du rififi...|             4.75|         Film-Noir|\n",
      "|   2511|Long Goodbye, The...|4.666666666666667|         Film-Noir|\n",
      "|   2511|Long Goodbye, The...|4.666666666666667|         Film-Noir|\n",
      "|   2511|Long Goodbye, The...|4.666666666666667|         Film-Noir|\n",
      "|  48872|   13 Tzameti (2005)|              4.5|         Film-Noir|\n",
      "|   6515|You Only Live Onc...|              4.5|         Film-Noir|\n",
      "|    922|Sunset Blvd. (a.k...|4.333333333333333|         Film-Noir|\n",
      "|    922|Sunset Blvd. (a.k...|4.333333333333333|         Film-Noir|\n",
      "|    922|Sunset Blvd. (a.k...|4.333333333333333|         Film-Noir|\n",
      "| 171749|Death Note: Desu ...|              5.0|(no genres listed)|\n",
      "| 176601|        Black Mirror|              5.0|(no genres listed)|\n",
      "| 147250|The Adventures of...|              5.0|(no genres listed)|\n",
      "| 172591|The Godfather Tri...|             4.75|(no genres listed)|\n",
      "| 172591|The Godfather Tri...|             4.75|(no genres listed)|\n",
      "| 166024|     Whiplash (2013)|             4.75|(no genres listed)|\n",
      "| 166024|     Whiplash (2013)|             4.75|(no genres listed)|\n",
      "| 171495|              Cosmos|              4.5|(no genres listed)|\n",
      "| 171495|              Cosmos|              4.5|(no genres listed)|\n",
      "| 159161|Ali Wong: Baby Co...|              4.5|(no genres listed)|\n",
      "|   4454|         More (1998)|              5.0|              IMAX|\n",
      "|  91386|Happy Feet Two (2...|              5.0|              IMAX|\n",
      "| 100882|Journey to the We...|             4.75|              IMAX|\n",
      "| 100882|Journey to the We...|             4.75|              IMAX|\n",
      "|  88932|Final Destination...|              4.5|              IMAX|\n",
      "|   1797|      Everest (1998)|             4.25|              IMAX|\n",
      "|   1797|      Everest (1998)|             4.25|              IMAX|\n",
      "|   1797|      Everest (1998)|             4.25|              IMAX|\n",
      "|   1797|      Everest (1998)|             4.25|              IMAX|\n",
      "|   1797|      Everest (1998)|             4.25|              IMAX|\n",
      "| 142444|   The Editor (2015)|              5.0|            Horror|\n",
      "|   3941|Sorority House Ma...|              5.0|            Horror|\n",
      "| 141928|Bloodsucking Bast...|              5.0|            Horror|\n",
      "|   6835|Alien Contaminati...|              5.0|            Horror|\n",
      "|  59814|   Ex Drummer (2007)|              5.0|            Horror|\n",
      "| 136834|The Eye: Infinity...|              5.0|            Horror|\n",
      "|   3940|Slumber Party Mas...|              5.0|            Horror|\n",
      "|   1349|Vampire in Venice...|              5.0|            Horror|\n",
      "| 164367|The Girl with All...|              5.0|            Horror|\n",
      "| 141718|    Deathgasm (2015)|              5.0|            Horror|\n",
      "|   3792|Duel in the Sun (...|              5.0|           Western|\n",
      "|  42556|7 Faces of Dr. La...|              5.0|           Western|\n",
      "| 128087|Trinity and Sarta...|              5.0|           Western|\n",
      "|   7218|Ox-Bow Incident, ...|              4.5|           Western|\n",
      "| 144976|Bone Tomahawk (2015)|              4.5|           Western|\n",
      "| 144976|Bone Tomahawk (2015)|              4.5|           Western|\n",
      "|  78620|Scalphunters, The...|              4.5|           Western|\n",
      "|   7614|    Oklahoma! (1955)|              4.5|           Western|\n",
      "|   7614|    Oklahoma! (1955)|              4.5|           Western|\n",
      "|  82857|   Sweetgrass (2009)|              4.5|           Western|\n",
      "|    496|What Happened Was...|              5.0|            Comedy|\n",
      "|  67618|Strictly Sexual (...|              5.0|            Comedy|\n",
      "| 150554| The Love Bug (1997)|              5.0|            Comedy|\n",
      "| 113829|One I Love, The (...|              5.0|            Comedy|\n",
      "| 142444|   The Editor (2015)|              5.0|            Comedy|\n",
      "| 157775|Tenchi Muyô! In L...|              5.0|            Comedy|\n",
      "|   5513|Martin Lawrence L...|              5.0|            Comedy|\n",
      "| 173963|      Empties (2007)|              5.0|            Comedy|\n",
      "|  25887|Tales of Manhatta...|              5.0|            Comedy|\n",
      "|    633|Denise Calls Up (...|              5.0|            Comedy|\n",
      "| 150554| The Love Bug (1997)|              5.0|          Children|\n",
      "| 118894|Scooby-Doo! Abrac...|              5.0|          Children|\n",
      "| 126921|The Fox and the H...|              5.0|          Children|\n",
      "| 175397|In the blue sea, ...|              5.0|          Children|\n",
      "|  95311|       Presto (2008)|              5.0|          Children|\n",
      "| 146684|Cosmic Scrat-tast...|              5.0|          Children|\n",
      "| 121781|Stuart Little 3: ...|              5.0|          Children|\n",
      "| 172793|Vovka in the King...|              5.0|          Children|\n",
      "| 175387|On the Trail of t...|              5.0|          Children|\n",
      "| 136353|Scooby-Doo! and t...|              5.0|          Children|\n",
      "|    876|Supercop 2 (Proje...|              5.0|            Action|\n",
      "|   5490|  The Big Bus (1976)|              5.0|            Action|\n",
      "|  26401|Last Hurrah for C...|              5.0|            Action|\n",
      "|   6835|Alien Contaminati...|              5.0|            Action|\n",
      "|  80124|Sisters (Syostry)...|              5.0|            Action|\n",
      "| 109241|On the Other Side...|              5.0|            Action|\n",
      "|  26840|Sonatine (Sonachi...|              5.0|            Action|\n",
      "|  27704|Battle Royale 2: ...|              5.0|            Action|\n",
      "|   2196|    Knock Off (1998)|              5.0|            Action|\n",
      "| 115727|Crippled Avengers...|              5.0|            Action|\n",
      "| 124851|     Delirium (2014)|              5.0|            Sci-Fi|\n",
      "|   6835|Alien Contaminati...|              5.0|            Sci-Fi|\n",
      "| 158027|SORI: Voice from ...|              5.0|            Sci-Fi|\n",
      "| 164367|The Girl with All...|              5.0|            Sci-Fi|\n",
      "|   4454|         More (1998)|              5.0|            Sci-Fi|\n",
      "| 104780|Mystery of the Th...|              5.0|            Sci-Fi|\n",
      "|  94810|          Eva (2011)|              5.0|            Sci-Fi|\n",
      "| 138632|  Tokyo Tribe (2014)|              5.0|            Sci-Fi|\n",
      "|   3687|Light Years (Gand...|              5.0|            Sci-Fi|\n",
      "| 172875|A Detective Story...|              5.0|            Sci-Fi|\n",
      "+-------+--------------------+-----------------+------------------+\n",
      "\n"
     ]
    }
   ],
   "source": [
    "# Names of the top-10 movies with the highest average rating grouped by genre, and\n",
    "\n",
    "# Define windowing function\n",
    "w = Window().partitionBy(\"genre\").orderBy(col(\"avg(rating)\").desc())\n",
    "\n",
    "# Calculate avg rating per movie\n",
    "movies_avg_ratings = movies_ratings.groupby(\"movieId\").avg(\"rating\")\n",
    "\n",
    "# Get top 10 movies per group\n",
    "movies_avg_ratings_by_genre = (\n",
    "    movies_ratings.withColumn(\"genre\", explode(split(\"genres\", \"\\|\")))\n",
    "    .join(movies_avg_ratings, \"movieId\", \"left\")\n",
    "    .withColumn(\"rn\", row_number().over(w))\n",
    "    .where(col(\"rn\") <= 10)\n",
    "    .select(\"movieId\", \"title\", \"avg(rating)\", \"genre\")\n",
    ")\n",
    "\n",
    "movies_avg_ratings_by_genre.show(movies_avg_ratings_by_genre.count())"
   ]
  },
  {
   "cell_type": "code",
   "execution_count": 10,
   "metadata": {
    "ExecuteTime": {
     "end_time": "2021-02-05T16:48:48.804483Z",
     "start_time": "2021-02-05T16:48:41.333760Z"
    }
   },
   "outputs": [
    {
     "name": "stdout",
     "output_type": "stream",
     "text": [
      "+-------+--------+-------+\n",
      "|movieId|movieIdB|support|\n",
      "+-------+--------+-------+\n",
      "|     47|     110|    134|\n",
      "|    110|      47|    134|\n",
      "|     47|      50|    120|\n",
      "|     50|      47|    120|\n",
      "|      1|     110|    117|\n",
      "|    110|       1|    117|\n",
      "|     50|     110|    110|\n",
      "|    110|      50|    110|\n",
      "|      1|      32|    104|\n",
      "|     32|       1|    104|\n",
      "+-------+--------+-------+\n",
      "only showing top 10 rows\n",
      "\n"
     ]
    }
   ],
   "source": [
    "# Common support for all pair of the first 100 movies.\n",
    "\n",
    "# last id in the first 100 movies\n",
    "limit = movies.take(100)[-1].movieId\n",
    "\n",
    "movies_ratings_filtered = movies_ratings.where(col(\"movieId\") <= limit)\n",
    "\n",
    "movies_ratings_filtered.join(\n",
    "    movies_ratings_filtered.select(\"userId\", col(\"movieId\").alias(\"movieIdB\")),\n",
    "    \"userId\",\n",
    "    \"left\",\n",
    ").where(col(\"movieIdB\") != col(\"movieId\")).groupby(\n",
    "    [\"movieId\", \"movieIdB\"]\n",
    ").count().select(\n",
    "    \"movieId\", \"movieIdB\", col(\"count\").alias(\"support\")\n",
    ").sort(\n",
    "    col(\"support\").desc()\n",
    ").show(10)"
   ]
  },
  {
   "cell_type": "markdown",
   "metadata": {},
   "source": [
    "## Classification"
   ]
  },
  {
   "cell_type": "code",
   "execution_count": 7,
   "metadata": {
    "ExecuteTime": {
     "end_time": "2021-02-06T11:07:00.348323Z",
     "start_time": "2021-02-06T11:06:58.986261Z"
    }
   },
   "outputs": [
    {
     "name": "stdout",
     "output_type": "stream",
     "text": [
      "+------+-------+------+---------+\n",
      "|userId|movieId|rating|timestamp|\n",
      "+------+-------+------+---------+\n",
      "|     1|      1|   4.0|964982703|\n",
      "|     1|      3|   4.0|964981247|\n",
      "|     1|     50|   5.0|964982931|\n",
      "|     1|     70|   3.0|964982400|\n",
      "|     1|    101|   5.0|964980868|\n",
      "+------+-------+------+---------+\n",
      "only showing top 5 rows\n",
      "\n"
     ]
    }
   ],
   "source": [
    "# Create train, test and validation set\n",
    "train, test, validation = users.randomSplit([0.8, 0.1, 0.1])\n",
    "mean_rating = train.select('rating').groupBy().avg(\"rating\").take(1)[0][0]\n",
    "\n",
    "train.show(5)"
   ]
  },
  {
   "cell_type": "markdown",
   "metadata": {},
   "source": [
    "### Baseline Prediction"
   ]
  },
  {
   "cell_type": "markdown",
   "metadata": {},
   "source": [
    "One of the classifier is a baseline precition. A user bias and movie bias is calculated. Those can be used to give recommendations to users for movies they not rated yet. In the following, two variatons are implemented to train the biases. One optimization is executed on RDDs and the other on DataFrames. "
   ]
  },
  {
   "cell_type": "code",
   "execution_count": 8,
   "metadata": {
    "ExecuteTime": {
     "end_time": "2021-02-06T11:07:00.356807Z",
     "start_time": "2021-02-06T11:07:00.351218Z"
    }
   },
   "outputs": [],
   "source": [
    "# Predict ratings based on trained user and movie bias\n",
    "def baseline_predictor(test, user_bias, movie_bias):\n",
    "    test = (\n",
    "        test.join(user_bias, \"userId\", \"inner\")\n",
    "        .join(movie_bias, \"movieId\", \"inner\")\n",
    "        .withColumn(\"mean\", lit(mean_rating))\n",
    "        .withColumn(\n",
    "            \"prediction\",\n",
    "            col(\"mean\") + col(\"user_bias\") + col(\"movie_bias\"),\n",
    "        )\n",
    "    )\n",
    "    return test"
   ]
  },
  {
   "cell_type": "markdown",
   "metadata": {},
   "source": [
    "#### With RDD"
   ]
  },
  {
   "cell_type": "code",
   "execution_count": 10,
   "metadata": {
    "ExecuteTime": {
     "end_time": "2021-02-06T11:07:12.937834Z",
     "start_time": "2021-02-06T11:07:12.929204Z"
    }
   },
   "outputs": [],
   "source": [
    "# Map Reduce Methods used during training\n",
    "def gradient(matrix, user_bias, movie_bias):\n",
    "    rating = matrix[:, 2]\n",
    "    user_ids = list(matrix[:, 0].astype(int))\n",
    "    movie_ids = list(matrix[:, 1].astype(int))\n",
    "    print(movie_ids)\n",
    "    error = rating.T - (\n",
    "        mean_rating + np.add(user_bias[[user_ids]], movie_bias[[movie_ids]])\n",
    "    )\n",
    "    user_bias_error = counter_user_bias = np.zeros(611)\n",
    "    movie_bias_error = counter_movie_bias = np.zeros(193610)\n",
    "    for i, user in enumerate(user_ids):\n",
    "        user_bias_error[user] = error[i]\n",
    "        counter_user_bias[user] = 1\n",
    "    for i, movie in enumerate(movie_ids):\n",
    "        movie_bias_error[movie] = error[i]\n",
    "        counter_movie_bias[user] = 1\n",
    "    return user_bias_error, movie_bias_error, counter_user_bias, counter_movie_bias\n",
    "\n",
    "\n",
    "def add(x, y):\n",
    "    x1 = np.add(x[0], y[0]) \n",
    "    x2 = np.add(x[1], y[1]) \n",
    "    x3 = np.add(x[2], y[2]) \n",
    "    x4 = np.add(x[3], y[3]) \n",
    "    return x1, x2, x3, x4"
   ]
  },
  {
   "cell_type": "code",
   "execution_count": 11,
   "metadata": {
    "ExecuteTime": {
     "end_time": "2021-02-06T11:07:13.336369Z",
     "start_time": "2021-02-06T11:07:13.332198Z"
    }
   },
   "outputs": [],
   "source": [
    "# Convert RDD Partitions\n",
    "def readBatch(iterator):\n",
    "    tuples = list(iterator)\n",
    "    matrix = np.zeros((len(tuples), 3))\n",
    "    for i, tup in enumerate(tuples):\n",
    "        matrix[i][0] = int(tup[0])\n",
    "        matrix[i][1] = int(tup[1])\n",
    "        matrix[i][2] = tup[2]\n",
    "    return [matrix]"
   ]
  },
  {
   "cell_type": "code",
   "execution_count": 12,
   "metadata": {
    "ExecuteTime": {
     "end_time": "2021-02-06T11:07:13.940593Z",
     "start_time": "2021-02-06T11:07:13.933177Z"
    }
   },
   "outputs": [],
   "source": [
    "# Training Methods\n",
    "def fit(train, lr, lambda_, iterations, verbose=False):\n",
    "    # Initialize user and movie bias\n",
    "    user_bias = np.zeros(611)\n",
    "    movie_bias = np.zeros(193610)\n",
    "    for i in range(iterations):\n",
    "        lr_it = lr / (i + 1)\n",
    "        #print(\"On iteration %i\" % (i + 1))\n",
    "        user_bias_error, movie_bias_error = train_rdd.map(lambda m: gradient(m, user_bias, movie_bias)).reduce(add)\n",
    "        user_bias += lr_it * (user_bias_error - lambda_ * user_bias)\n",
    "        movie_bias += lr_it * (movie_bias_error - lambda_ * movie_bias)\n",
    "        if verbose:\n",
    "            rmse_baseline = evaluate(test, user_bias, movie_bias)\n",
    "            print(\"Root-mean-square error = \" + str(rmse_baseline))\n",
    "    return user_bias, movie_bias\n",
    "    "
   ]
  },
  {
   "cell_type": "code",
   "execution_count": 13,
   "metadata": {
    "ExecuteTime": {
     "end_time": "2021-02-06T11:07:15.474861Z",
     "start_time": "2021-02-06T11:07:15.468816Z"
    }
   },
   "outputs": [],
   "source": [
    "# Evaluation Method for fitted user and movie bias\n",
    "def evaluate(test, user_bias, movie_bias):\n",
    "    df_user = pd.DataFrame(user_bias, columns=[\"user_bias\"])\n",
    "    df_user['userId'] = df_user.index\n",
    "    df_movie = pd.DataFrame(user_bias, columns=[\"movie_bias\"])\n",
    "    df_movie['movieId'] = df_movie.index\n",
    "    df_user_bias = sqlContext.createDataFrame(df_user)\n",
    "    df_movie_bias = sqlContext.createDataFrame(df_movie)\n",
    "    baseline_predictions = baseline_predictor(test, df_user_bias, df_movie_bias)\n",
    "    evaluator = RegressionEvaluator(\n",
    "                metricName=\"rmse\", labelCol=\"rating\", predictionCol=\"prediction\"\n",
    "            )\n",
    "    rmse_baseline = evaluator.evaluate(baseline_predictions)\n",
    "    return rmse_baseline"
   ]
  },
  {
   "cell_type": "code",
   "execution_count": 15,
   "metadata": {
    "ExecuteTime": {
     "end_time": "2021-02-06T11:07:35.769631Z",
     "start_time": "2021-02-06T11:07:35.582200Z"
    }
   },
   "outputs": [],
   "source": [
    "# Map DF to RDD and convert paritions into numpy arrays (faster)\n",
    "train_rdd = train.rdd.map(tuple).repartition(100).mapPartitions(readBatch).cache()"
   ]
  },
  {
   "cell_type": "code",
   "execution_count": 29,
   "metadata": {
    "ExecuteTime": {
     "end_time": "2021-02-05T17:47:20.722599Z",
     "start_time": "2021-02-05T17:26:54.751088Z"
    },
    "scrolled": true
   },
   "outputs": [
    {
     "data": {
      "text/plain": [
       "(0.2, 2, 14, 1.0469672593140502)"
      ]
     },
     "execution_count": 29,
     "metadata": {},
     "output_type": "execute_result"
    }
   ],
   "source": [
    "# Grid search\n",
    "lambda_list = [0.4, 0.5, 1, 2]\n",
    "lrs = [0.1, 0.5, 0.01, 0.05, 0.2, 0.3, 0.4]\n",
    "lowest_rmse = 10\n",
    "\n",
    "\n",
    "for lambda_ in lambda_list:\n",
    "    for lr in lrs:\n",
    "        # Fit biases\n",
    "        user_bias, movie_bias = fit(train, lr, lambda_, 15)\n",
    "        rmse_baseline = evaluate(test, user_bias, movie_bias)\n",
    "        # Save best parameters\n",
    "        if rmse_baseline < lowest_rmse:\n",
    "            lowest_rmse = rmse_baseline\n",
    "            best_lr = lr\n",
    "            best_lambda = lambda_\n",
    "            \n",
    "# Best Parameters\n",
    "best_lr, best_lambda, lowest_rmse"
   ]
  },
  {
   "cell_type": "code",
   "execution_count": 18,
   "metadata": {
    "ExecuteTime": {
     "end_time": "2021-02-06T11:10:08.228933Z",
     "start_time": "2021-02-06T11:09:17.683830Z"
    }
   },
   "outputs": [
    {
     "name": "stdout",
     "output_type": "stream",
     "text": [
      "Root-mean-square error = 1.043807838776407\n",
      "Root-mean-square error = 1.040980388897031\n",
      "Root-mean-square error = 1.0404587965090073\n",
      "Root-mean-square error = 1.0402463121727379\n",
      "Root-mean-square error = 1.0401324130819276\n",
      "Root-mean-square error = 1.0400619177512702\n",
      "Root-mean-square error = 1.0400142111735278\n",
      "Root-mean-square error = 1.0399798936701232\n",
      "Root-mean-square error = 1.039954084823282\n",
      "Root-mean-square error = 1.0399340062930822\n",
      "Root-mean-square error = 1.0399179635499685\n",
      "Root-mean-square error = 1.039904866115887\n",
      "Root-mean-square error = 1.0398939813904027\n",
      "Root-mean-square error = 1.0398847995226919\n",
      "Root-mean-square error = 1.039876955064277\n",
      "Training finished after 50.54073643684387 seconds\n"
     ]
    }
   ],
   "source": [
    "# Traning with best parameters\n",
    "#best_lr = 0.4\n",
    "#best_lambda = 2\n",
    "start = time()\n",
    "\n",
    "user_bias = np.zeros(611)\n",
    "movie_bias = np.zeros(193610)\n",
    "user_bias, movie_bias = fit(train, best_lr, best_lambda, 15, verbose=True)\n",
    "\n",
    "print(f\"Training finished after {time() - start} seconds\")"
   ]
  },
  {
   "cell_type": "markdown",
   "metadata": {},
   "source": [
    "#### With DataFrame"
   ]
  },
  {
   "cell_type": "code",
   "execution_count": 22,
   "metadata": {
    "ExecuteTime": {
     "end_time": "2021-02-06T11:11:10.449781Z",
     "start_time": "2021-02-06T11:11:10.445033Z"
    }
   },
   "outputs": [],
   "source": [
    "# I tried different combinations of learning rates, and lambdas, the best results I got with: \n",
    "lr = 0.4\n",
    "lambda_ = 1"
   ]
  },
  {
   "cell_type": "code",
   "execution_count": 23,
   "metadata": {
    "ExecuteTime": {
     "end_time": "2021-02-06T11:13:00.949432Z",
     "start_time": "2021-02-06T11:11:10.621747Z"
    }
   },
   "outputs": [
    {
     "name": "stdout",
     "output_type": "stream",
     "text": [
      "0.9071443483368775 after 1 iterations\n",
      "0.8969218406766489 after 2 iterations\n",
      "0.8942664032856237 after 3 iterations\n",
      "0.8934225167282644 after 4 iterations\n",
      "0.8931293421157787 after 5 iterations\n",
      "0.8930230828273417 after 6 iterations\n",
      "0.8929834387520453 after 7 iterations\n",
      "0.8929682945703843 after 8 iterations\n",
      "Training finished after 110.29225063323975 seconds\n"
     ]
    }
   ],
   "source": [
    "init = train.withColumn(\"user_bias\", lit(0)).withColumn(\"movie_bias\", lit(0)).cache()\n",
    "start = time()\n",
    "for i in range(8):\n",
    "    start_iteration = time()\n",
    "    init = init.withColumn(\n",
    "        \"error\", col(\"rating\") - (mean_rating + col(\"user_bias\") + col(\"movie_bias\"))\n",
    "    ).cache()\n",
    "    # print(f\"{time() - start_iteration} seconds for error calculation\")\n",
    "    time_stamp = time()\n",
    "    error_user = (\n",
    "        init.groupBy(\"userId\")\n",
    "        .avg(\"error\")\n",
    "        .withColumnRenamed(\"avg(error)\", \"user_error\")\n",
    "    )\n",
    "    # print(f\"{time() - time_stamp} seconds for error user grouping\")\n",
    "    time_stamp = time()\n",
    "    error_movie = (\n",
    "        init.groupBy(\"movieId\")\n",
    "        .avg(\"error\")\n",
    "        .withColumnRenamed(\"avg(error)\", \"movie_error\")\n",
    "    )\n",
    "    # print(f\"{time() - time_stamp} seconds for error movie grouping\")\n",
    "    time_stamp = time()\n",
    "    init = (\n",
    "        init.join(error_user, \"userId\", \"left\")\n",
    "        .withColumn(\n",
    "            \"user_bias\",\n",
    "            col(\"user_bias\") + lr * (col(\"user_error\") - lambda_ * col(\"user_bias\")),\n",
    "        )\n",
    "        .join(error_movie, \"movieId\", \"left\")\n",
    "        .withColumn(\n",
    "            \"movie_bias\",\n",
    "            col(\"movie_bias\")\n",
    "            + lr * (col(\"movie_error\") - lambda_ * col(\"movie_bias\")),\n",
    "        )\n",
    "        .drop(\"user_error\")\n",
    "        .drop(\"movie_error\")\n",
    "        .cache()\n",
    "    )\n",
    "\n",
    "    # print(f\"{time() - time_stamp} seconds for bias calculation\")\n",
    "    user_bias = (\n",
    "        init.groupby(\"userId\")\n",
    "        .max(\"user_bias\")\n",
    "        .withColumnRenamed(\"max(user_bias)\", \"user_bias\")\n",
    "    )\n",
    "    movie_bias = (\n",
    "        init.groupby(\"movieId\")\n",
    "        .max(\"movie_bias\")\n",
    "        .withColumnRenamed(\"max(movie_bias)\", \"movie_bias\")\n",
    "    )\n",
    "    baseline_predictions = baseline_predictor(test, user_bias, movie_bias)\n",
    "    evaluator = RegressionEvaluator(\n",
    "        metricName=\"rmse\", labelCol=\"rating\", predictionCol=\"prediction\"\n",
    "    )\n",
    "    rmse_baseline = evaluator.evaluate(baseline_predictions)\n",
    "    print(f\"{rmse_baseline} after {i+1} iterations\")\n",
    "print(f\"Training finished after {time() - start} seconds\")"
   ]
  },
  {
   "cell_type": "markdown",
   "metadata": {},
   "source": [
    "### Collaborative Filtering"
   ]
  },
  {
   "cell_type": "code",
   "execution_count": 39,
   "metadata": {
    "ExecuteTime": {
     "end_time": "2021-02-06T00:02:05.188390Z",
     "start_time": "2021-02-05T23:40:25.198656Z"
    }
   },
   "outputs": [
    {
     "name": "stdout",
     "output_type": "stream",
     "text": [
      "Cross validation finished after 1299.9577195644379 seconds\n"
     ]
    }
   ],
   "source": [
    "# Build the recommendation model using ALS \n",
    "start = time()\n",
    "als = ALS(maxIter=5,rank=15, regParam=0.01, userCol=\"userId\", itemCol=\"movieId\", ratingCol=\"rating\",\n",
    "          coldStartStrategy=\"drop\")\n",
    "\n",
    "evaluator = RegressionEvaluator(metricName=\"rmse\", labelCol=\"rating\",\n",
    "                                predictionCol=\"prediction\")\n",
    "\n",
    "# Cross validation on training and test data\n",
    "paramGrid = ParamGridBuilder() \\\n",
    "    .addGrid(als.maxIter, [5, 10, 15, 4, 6]) \\\n",
    "    .addGrid(als.regParam, [0.1, 0.05, 0.2, 0.3]) \\\n",
    "    .addGrid(als.coldStartStrategy, [\"drop\", \"nan\"]) \\\n",
    "    .build()\n",
    "\n",
    "crossval = CrossValidator(estimator=als,\n",
    "                          estimatorParamMaps=paramGrid,\n",
    "                          evaluator=evaluator,\n",
    "                          numFolds=10)  # use 3+ folds in practice\n",
    "\n",
    "# Run cross-validation, and choose the best set of parameters.\n",
    "train_new = train.union(test)\n",
    "als = crossval.fit(train_new)\n",
    "\n",
    "print(f\"Cross validation finished after {time() - start} seconds\")"
   ]
  },
  {
   "cell_type": "code",
   "execution_count": 40,
   "metadata": {
    "ExecuteTime": {
     "end_time": "2021-02-06T00:02:05.201750Z",
     "start_time": "2021-02-06T00:02:05.191901Z"
    }
   },
   "outputs": [
    {
     "data": {
      "text/plain": [
       "[0.8833934807591354,\n",
       " 0.9544909458847385,\n",
       " 0.8847087159245665,\n",
       " 0.9240325278419677,\n",
       " 0.880932949494346,\n",
       " 0.9523791158642447,\n",
       " 0.8790761422787422,\n",
       " 0.9154148748376895,\n",
       " 0.8795190671811418,\n",
       " 0.94707204949201,\n",
       " 0.8778950088006628,\n",
       " 0.9142074222722704,\n",
       " 0.8857927626943973,\n",
       " 0.954788475333234,\n",
       " 0.8884747078584726,\n",
       " 0.929602237367652,\n",
       " 0.8824157273408866,\n",
       " 0.9546835142621444,\n",
       " 0.8825648910133064,\n",
       " 0.9206615631096309]"
      ]
     },
     "execution_count": 40,
     "metadata": {},
     "output_type": "execute_result"
    }
   ],
   "source": [
    "als.avgMetrics"
   ]
  },
  {
   "cell_type": "code",
   "execution_count": 24,
   "metadata": {
    "ExecuteTime": {
     "end_time": "2021-02-06T11:13:04.143544Z",
     "start_time": "2021-02-06T11:13:00.953279Z"
    }
   },
   "outputs": [
    {
     "name": "stdout",
     "output_type": "stream",
     "text": [
      "Training finished after 3.1862528324127197 seconds\n"
     ]
    }
   ],
   "source": [
    "start = time()\n",
    "als = ALS(maxIter=5,rank=10, regParam=0.1, userCol=\"userId\", itemCol=\"movieId\", ratingCol=\"rating\",\n",
    "          coldStartStrategy=\"drop\")\n",
    "als = als.fit(train)\n",
    "print(f\"Training finished after {time() - start} seconds\")"
   ]
  },
  {
   "cell_type": "markdown",
   "metadata": {},
   "source": [
    "## Evaluate"
   ]
  },
  {
   "cell_type": "code",
   "execution_count": 25,
   "metadata": {
    "ExecuteTime": {
     "end_time": "2021-02-06T11:13:34.830812Z",
     "start_time": "2021-02-06T11:13:04.146986Z"
    }
   },
   "outputs": [
    {
     "name": "stdout",
     "output_type": "stream",
     "text": [
      "Root-mean-square error ALS = 0.8935371713550776\n",
      "Root-mean-square error Baseline= 0.9031937195812763\n"
     ]
    }
   ],
   "source": [
    "# Evaluate the model by computing the RMSE on the val data\n",
    "\n",
    "### ALS\n",
    "predictions = als.transform(validation)\n",
    "rmse = evaluator.evaluate(predictions)\n",
    "print(\"Root-mean-square error ALS = \" + str(rmse))\n",
    "\n",
    "### Baseline DataFrame\n",
    "baseline_predictions = baseline_predictor(validation, user_bias, movie_bias)\n",
    "rmse_baseline = evaluator.evaluate(baseline_predictions)\n",
    "print(\"Root-mean-square error Baseline= \" + str(rmse_baseline))"
   ]
  },
  {
   "cell_type": "markdown",
   "metadata": {},
   "source": [
    "ALS performs here a little bit better, and it for one training run also why faster. "
   ]
  },
  {
   "cell_type": "code",
   "execution_count": 28,
   "metadata": {
    "ExecuteTime": {
     "end_time": "2021-02-06T11:14:40.714327Z",
     "start_time": "2021-02-06T11:14:40.507452Z"
    }
   },
   "outputs": [],
   "source": [
    "# Movie Recommendation\n",
    "# Generate top 10 movie recommendations for each user\n",
    "userRecs = als.recommendForAllUsers(10)"
   ]
  },
  {
   "cell_type": "code",
   "execution_count": 31,
   "metadata": {
    "ExecuteTime": {
     "end_time": "2021-02-06T11:19:15.174992Z",
     "start_time": "2021-02-06T11:19:10.195155Z"
    }
   },
   "outputs": [],
   "source": [
    "userRecs.toPandas().to_csv('output.csv')"
   ]
  }
 ],
 "metadata": {
  "kernelspec": {
   "display_name": "Python 3",
   "language": "python",
   "name": "python3"
  },
  "language_info": {
   "codemirror_mode": {
    "name": "ipython",
    "version": 3
   },
   "file_extension": ".py",
   "mimetype": "text/x-python",
   "name": "python",
   "nbconvert_exporter": "python",
   "pygments_lexer": "ipython3",
   "version": "3.8.5"
  },
  "toc": {
   "base_numbering": 1,
   "nav_menu": {},
   "number_sections": false,
   "sideBar": true,
   "skip_h1_title": true,
   "title_cell": "Table of Contents",
   "title_sidebar": "Contents",
   "toc_cell": false,
   "toc_position": {
    "height": "calc(100% - 180px)",
    "left": "10px",
    "top": "150px",
    "width": "288px"
   },
   "toc_section_display": true,
   "toc_window_display": true
  }
 },
 "nbformat": 4,
 "nbformat_minor": 4
}
